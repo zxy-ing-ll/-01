{
 "cells": [
  {
   "cell_type": "code",
   "execution_count": 1,
   "id": "initial_id",
   "metadata": {
    "collapsed": true,
    "ExecuteTime": {
     "end_time": "2025-05-06T13:56:45.547907Z",
     "start_time": "2025-05-06T13:56:44.033356Z"
    }
   },
   "outputs": [],
   "source": [
    "import hover\n",
    "import numpy as np\n",
    "import pandas as pd\n",
    "import matplotlib.pyplot as plt\n",
    "\n",
    "import warnings\n",
    "warnings.filterwarnings(\"ignore\")"
   ]
  },
  {
   "cell_type": "code",
   "outputs": [],
   "source": [
    "from bokeh.plotting import figure,show,output_file\n",
    "from bokeh.models import ColumnDataSource,HoverTool"
   ],
   "metadata": {
    "collapsed": false,
    "ExecuteTime": {
     "end_time": "2025-05-06T13:56:45.605124Z",
     "start_time": "2025-05-06T13:56:45.548971Z"
    }
   },
   "id": "3f1b2b1d1b534e7",
   "execution_count": 2
  },
  {
   "cell_type": "code",
   "outputs": [],
   "source": [
    "#1.加载数据"
   ],
   "metadata": {
    "collapsed": false,
    "ExecuteTime": {
     "end_time": "2025-05-06T13:56:45.611024Z",
     "start_time": "2025-05-06T13:56:45.606148Z"
    }
   },
   "id": "44e29cecafabaec5",
   "execution_count": 3
  },
  {
   "cell_type": "code",
   "outputs": [
    {
     "name": "stdout",
     "output_type": "stream",
     "text": [
      "       类别    行政区  点评数   口味   环境   服务  人均消费   城市         Lng        Lat\n",
      "0      烧烤   浦东新区  176  8.0  8.6  7.9   124  上海市  121.967860  30.884477\n",
      "1      美食    闵行区    2  6.1  6.5  6.3     0  上海市  121.967781  30.883818\n",
      "2      粤菜   浦东新区  141  6.7  7.2  6.6   141  上海市  121.933142  30.893224\n",
      "3      海鲜   浦东新区   76  7.2  7.2  7.3   148  上海市  121.926062  30.899868\n",
      "4      烧烤   浦东新区  600  7.2  7.6  7.0   143  上海市  121.925877  30.901100\n",
      "...    ..    ...  ...  ...  ...  ...   ...  ...         ...        ...\n",
      "96393  快餐    黄浦区   14  7.1  7.2  7.3     0  上海市  109.556522  18.242452\n",
      "96394  美食    嘉定区    2  7.3  7.4  7.4     0  上海市  107.557465  30.613898\n",
      "96395  料理    闵行区   43  7.2  7.1  7.0    25  上海市  107.371337  24.510765\n",
      "96396  甜点    普陀区    0  0.0  0.0  0.0     0  上海市  107.064797  29.831243\n",
      "96397  美食    虹口区    0  0.0  0.0  0.0     0  上海市  106.175198  37.997707\n",
      "\n",
      "[96398 rows x 10 columns]\n",
      "finished!\n"
     ]
    }
   ],
   "source": [
    "\n",
    "\n",
    "import os\n",
    "os.chdir(r'G:\\python\\03python数据分析与挖掘实战\\03数据分析项目实战\\01城市餐饮店铺选址项目')\n",
    "df1=pd.read_excel('上海餐饮数据.xlsx')\n",
    "print(df1)\n",
    "print('finished!')"
   ],
   "metadata": {
    "collapsed": false,
    "ExecuteTime": {
     "end_time": "2025-05-06T13:56:57.360640Z",
     "start_time": "2025-05-06T13:56:45.612541Z"
    }
   },
   "id": "61c98bd2f583151b",
   "execution_count": 4
  },
  {
   "cell_type": "code",
   "outputs": [
    {
     "data": {
      "text/plain": "<Axes: >"
     },
     "execution_count": 5,
     "metadata": {},
     "output_type": "execute_result"
    },
    {
     "data": {
      "text/plain": "<Figure size 640x480 with 1 Axes>",
      "image/png": "[encoded data removed]"
     },
     "metadata": {},
     "output_type": "display_data"
    }
   ],
   "source": [
    "df1['口味'].plot()"
   ],
   "metadata": {
    "collapsed": false,
    "ExecuteTime": {
     "end_time": "2025-05-06T13:56:58.295867Z",
     "start_time": "2025-05-06T13:56:57.360640Z"
    }
   },
   "id": "ad5ad92bec57a282",
   "execution_count": 5
  },
  {
   "cell_type": "code",
   "outputs": [
    {
     "data": {
      "text/plain": "96398"
     },
     "execution_count": 6,
     "metadata": {},
     "output_type": "execute_result"
    }
   ],
   "source": [
    "len(df1)"
   ],
   "metadata": {
    "collapsed": false,
    "ExecuteTime": {
     "end_time": "2025-05-06T13:56:58.301973Z",
     "start_time": "2025-05-06T13:56:58.296876Z"
    }
   },
   "id": "2170e116bcaee2f8",
   "execution_count": 6
  },
  {
   "cell_type": "code",
   "outputs": [
    {
     "name": "stdout",
     "output_type": "stream",
     "text": [
      "       类别    行政区  点评数   口味   环境   服务  人均消费   城市         Lng        Lat\n",
      "0      烧烤   浦东新区  176  8.0  8.6  7.9   124  上海市  121.967860  30.884477\n",
      "1      美食    闵行区    2  6.1  6.5  6.3     0  上海市  121.967781  30.883818\n",
      "2      粤菜   浦东新区  141  6.7  7.2  6.6   141  上海市  121.933142  30.893224\n",
      "3      海鲜   浦东新区   76  7.2  7.2  7.3   148  上海市  121.926062  30.899868\n",
      "4      烧烤   浦东新区  600  7.2  7.6  7.0   143  上海市  121.925877  30.901100\n",
      "...    ..    ...  ...  ...  ...  ...   ...  ...         ...        ...\n",
      "96393  快餐    黄浦区   14  7.1  7.2  7.3     0  上海市  109.556522  18.242452\n",
      "96394  美食    嘉定区    2  7.3  7.4  7.4     0  上海市  107.557465  30.613898\n",
      "96395  料理    闵行区   43  7.2  7.1  7.0    25  上海市  107.371337  24.510765\n",
      "96396  甜点    普陀区    0  0.0  0.0  0.0     0  上海市  107.064797  29.831243\n",
      "96397  美食    虹口区    0  0.0  0.0  0.0     0  上海市  106.175198  37.997707\n",
      "\n",
      "[96398 rows x 10 columns]\n"
     ]
    }
   ],
   "source": [
    "columns_lst=df1.columns.tolist()\n",
    "print(df1)\n",
    "#columns_lst = df1.columns.tolist() 这行代码的作用是将 DataFrame（df1）的列名转换为一个列表，并赋值给变量 columns_lst。以下是详细解释："
   ],
   "metadata": {
    "collapsed": false,
    "ExecuteTime": {
     "end_time": "2025-05-06T13:56:58.319915Z",
     "start_time": "2025-05-06T13:56:58.302980Z"
    }
   },
   "id": "4e809b3d8abb1974",
   "execution_count": 7
  },
  {
   "cell_type": "code",
   "outputs": [
    {
     "name": "stdout",
     "output_type": "stream",
     "text": [
      "       类别   口味   环境   服务  人均消费\n",
      "0      烧烤  8.0  8.6  7.9   124\n",
      "1      美食  6.1  6.5  6.3     0\n",
      "2      粤菜  6.7  7.2  6.6   141\n",
      "3      海鲜  7.2  7.2  7.3   148\n",
      "4      烧烤  7.2  7.6  7.0   143\n",
      "...    ..  ...  ...  ...   ...\n",
      "96393  快餐  7.1  7.2  7.3     0\n",
      "96394  美食  7.3  7.4  7.4     0\n",
      "96395  料理  7.2  7.1  7.0    25\n",
      "96396  甜点  0.0  0.0  0.0     0\n",
      "96397  美食  0.0  0.0  0.0     0\n",
      "\n",
      "[96398 rows x 5 columns]\n"
     ]
    }
   ],
   "source": [
    "data1=df1[['类别','口味','环境','服务','人均消费']]\n",
    "print(data1)"
   ],
   "metadata": {
    "collapsed": false,
    "ExecuteTime": {
     "end_time": "2025-05-06T13:56:58.330439Z",
     "start_time": "2025-05-06T13:56:58.321052Z"
    }
   },
   "id": "59fa481366f80478",
   "execution_count": 8
  },
  {
   "cell_type": "code",
   "outputs": [
    {
     "name": "stdout",
     "output_type": "stream",
     "text": [
      "       类别   口味   环境   服务  人均消费\n",
      "0      烧烤  8.0  8.6  7.9   124\n",
      "1      美食  6.1  6.5  6.3     0\n",
      "2      粤菜  6.7  7.2  6.6   141\n",
      "3      海鲜  7.2  7.2  7.3   148\n",
      "4      烧烤  7.2  7.6  7.0   143\n",
      "...    ..  ...  ...  ...   ...\n",
      "96393  快餐  7.1  7.2  7.3     0\n",
      "96394  美食  7.3  7.4  7.4     0\n",
      "96395  料理  7.2  7.1  7.0    25\n",
      "96396  甜点  0.0  0.0  0.0     0\n",
      "96397  美食  0.0  0.0  0.0     0\n",
      "\n",
      "[96258 rows x 5 columns]\n"
     ]
    }
   ],
   "source": [
    "data1.dropna(inplace=True)\n",
    "#空值的处理原来是print(data1)\n",
    "#现在是[96258 rows x 5 columns]少了一百条\n",
    "print(data1)"
   ],
   "metadata": {
    "collapsed": false,
    "ExecuteTime": {
     "end_time": "2025-05-06T13:56:58.343402Z",
     "start_time": "2025-05-06T13:56:58.331486Z"
    }
   },
   "id": "136098048fb5fd84",
   "execution_count": 9
  },
  {
   "cell_type": "code",
   "outputs": [
    {
     "name": "stdout",
     "output_type": "stream",
     "text": [
      "       类别   口味   环境   服务  人均消费\n",
      "0      烧烤  8.0  8.6  7.9   124\n",
      "2      粤菜  6.7  7.2  6.6   141\n",
      "3      海鲜  7.2  7.2  7.3   148\n",
      "4      烧烤  7.2  7.6  7.0   143\n",
      "5      本菜  8.2  8.9  8.4    66\n",
      "...    ..  ...  ...  ...   ...\n",
      "96382  浙菜  7.7  7.0  7.4    76\n",
      "96386  浙菜  7.5  7.0  7.2    58\n",
      "96387  亚菜  7.0  7.1  7.1    49\n",
      "96388  甜点  8.2  7.9  8.1    33\n",
      "96395  料理  7.2  7.1  7.0    25\n",
      "\n",
      "[54889 rows x 5 columns]\n"
     ]
    }
   ],
   "source": [
    "data1 = data1[(data1['口味'] > 0) & (data1['人均消费'] > 0)]\n",
    "print(data1)\n",
    "#上面那个数据人均消费有的为0，只是这个类别没有人点，所以要去除掉\n",
    "#用口味>0是因为一个为0，后面都是为0，所以选择一个就可以了\n",
    "#因此少了1万条数据"
   ],
   "metadata": {
    "collapsed": false,
    "ExecuteTime": {
     "end_time": "2025-05-06T13:56:58.353895Z",
     "start_time": "2025-05-06T13:56:58.343402Z"
    }
   },
   "id": "72eda3437cbf10ce",
   "execution_count": 10
  },
  {
   "cell_type": "markdown",
   "source": [],
   "metadata": {
    "collapsed": false
   },
   "id": "63f23be7a25fc682"
  },
  {
   "cell_type": "code",
   "outputs": [
    {
     "name": "stdout",
     "output_type": "stream",
     "text": [
      "       类别   口味   环境   服务  人均消费        性价比\n",
      "0      烧烤  8.0  8.6  7.9   124  16.663710\n",
      "2      粤菜  6.7  7.2  6.6   141  13.946809\n",
      "3      海鲜  7.2  7.2  7.3   148  14.449324\n",
      "4      烧烤  7.2  7.6  7.0   143  14.848951\n",
      "5      本菜  8.2  8.9  8.4    66  17.227273\n",
      "...    ..  ...  ...  ...   ...        ...\n",
      "96382  浙菜  7.7  7.0  7.4    76  14.797368\n",
      "96386  浙菜  7.5  7.0  7.2    58  14.624138\n",
      "96387  亚菜  7.0  7.1  7.1    49  14.244898\n",
      "96388  甜点  8.2  7.9  8.1    33  16.345455\n",
      "96395  料理  7.2  7.1  7.0    25  14.580000\n",
      "\n",
      "[54889 rows x 6 columns]\n"
     ]
    }
   ],
   "source": [
    "data1['性价比']=(data1['口味']+data1['环境']+data1['服务']/data1['人均消费'])\n",
    "print(data1)"
   ],
   "metadata": {
    "collapsed": false,
    "ExecuteTime": {
     "end_time": "2025-05-06T13:56:58.363842Z",
     "start_time": "2025-05-06T13:56:58.355929Z"
    }
   },
   "id": "1d655c90a27a58fa",
   "execution_count": 11
  },
  {
   "cell_type": "code",
   "outputs": [
    {
     "data": {
      "text/plain": "<Figure size 1000x400 with 3 Axes>",
      "image/png": "[encoded data removed]"
     },
     "metadata": {},
     "output_type": "display_data"
    }
   ],
   "source": [
    "plt.rcParams['font.sans-serif'] = ['SimHei']  # 中文字体\n",
    "plt.rcParams['font.family'] = 'sans-serif'    # 通用字体族\n",
    "def f1():\n",
    "    fig,axes=plt.subplots(1,3,figsize=(10,4))\n",
    "    data1.boxplot(column='口味',ax=axes[0])\n",
    "    data1.boxplot(column='人均消费',ax=axes[1])\n",
    "    data1.boxplot(column='性价比',ax=axes[2])\n",
    "f1()\n",
    "#1,3=一行三个图"
   ],
   "metadata": {
    "collapsed": false,
    "ExecuteTime": {
     "end_time": "2025-05-06T13:56:58.613585Z",
     "start_time": "2025-05-06T13:56:58.364851Z"
    }
   },
   "id": "1283b6863b16d9c0",
   "execution_count": 12
  },
  {
   "cell_type": "code",
   "outputs": [],
   "source": [
    "#除去异常值\n",
    "def f2(data,col):\n",
    "   q1=data[col].quantile(q=0.25)\n",
    "   q3=data[col].quantile(q=0.75)\n",
    "   iqr=q3-q1\n",
    "   t1=q1-3*iqr\n",
    "   t2=q3+3*iqr\n",
    "   return data[(data[col] > t1) & (data[col] < t2)][['类别', col]]"
   ],
   "metadata": {
    "collapsed": false,
    "ExecuteTime": {
     "end_time": "2025-05-06T13:56:58.619246Z",
     "start_time": "2025-05-06T13:56:58.614598Z"
    }
   },
   "id": "6e13ad9f84a0bb2d",
   "execution_count": 13
  },
  {
   "cell_type": "code",
   "outputs": [
    {
     "data": {
      "text/plain": "       类别   口味\n0      烧烤  8.0\n2      粤菜  6.7\n3      海鲜  7.2\n4      烧烤  7.2\n5      本菜  8.2\n...    ..  ...\n96382  浙菜  7.7\n96386  浙菜  7.5\n96387  亚菜  7.0\n96388  甜点  8.2\n96395  料理  7.2\n\n[54887 rows x 2 columns]",
      "text/html": "<div>\n<style scoped>\n    .dataframe tbody tr th:only-of-type {\n        vertical-align: middle;\n    }\n\n    .dataframe tbody tr th {\n        vertical-align: top;\n    }\n\n    .dataframe thead th {\n        text-align: right;\n    }\n</style>\n<table border=\"1\" class=\"dataframe\">\n  <thead>\n    <tr style=\"text-align: right;\">\n      <th></th>\n      <th>类别</th>\n      <th>口味</th>\n    </tr>\n  </thead>\n  <tbody>\n    <tr>\n      <th>0</th>\n      <td>烧烤</td>\n      <td>8.0</td>\n    </tr>\n    <tr>\n      <th>2</th>\n      <td>粤菜</td>\n      <td>6.7</td>\n    </tr>\n    <tr>\n      <th>3</th>\n      <td>海鲜</td>\n      <td>7.2</td>\n    </tr>\n    <tr>\n      <th>4</th>\n      <td>烧烤</td>\n      <td>7.2</td>\n    </tr>\n    <tr>\n      <th>5</th>\n      <td>本菜</td>\n      <td>8.2</td>\n    </tr>\n    <tr>\n      <th>...</th>\n      <td>...</td>\n      <td>...</td>\n    </tr>\n    <tr>\n      <th>96382</th>\n      <td>浙菜</td>\n      <td>7.7</td>\n    </tr>\n    <tr>\n      <th>96386</th>\n      <td>浙菜</td>\n      <td>7.5</td>\n    </tr>\n    <tr>\n      <th>96387</th>\n      <td>亚菜</td>\n      <td>7.0</td>\n    </tr>\n    <tr>\n      <th>96388</th>\n      <td>甜点</td>\n      <td>8.2</td>\n    </tr>\n    <tr>\n      <th>96395</th>\n      <td>料理</td>\n      <td>7.2</td>\n    </tr>\n  </tbody>\n</table>\n<p>54887 rows × 2 columns</p>\n</div>"
     },
     "execution_count": 14,
     "metadata": {},
     "output_type": "execute_result"
    }
   ],
   "source": [
    "data_kw=f2(data1,'口味')\n",
    "data_kw"
   ],
   "metadata": {
    "collapsed": false,
    "ExecuteTime": {
     "end_time": "2025-05-06T13:56:58.647295Z",
     "start_time": "2025-05-06T13:56:58.620260Z"
    }
   },
   "id": "7219519e7689dd89",
   "execution_count": 14
  },
  {
   "cell_type": "code",
   "outputs": [
    {
     "data": {
      "text/plain": "<Figure size 1000x400 with 3 Axes>",
      "image/png": "[encoded data removed]"
     },
     "metadata": {},
     "output_type": "display_data"
    }
   ],
   "source": [
    "f1()"
   ],
   "metadata": {
    "collapsed": false,
    "ExecuteTime": {
     "end_time": "2025-05-06T13:56:58.906508Z",
     "start_time": "2025-05-06T13:56:58.648300Z"
    }
   },
   "id": "22b43ffba1672d89",
   "execution_count": 15
  },
  {
   "cell_type": "code",
   "outputs": [
    {
     "data": {
      "text/plain": "       类别  人均消费\n0      烧烤   124\n2      粤菜   141\n3      海鲜   148\n4      烧烤   143\n5      本菜    66\n...    ..   ...\n96382  浙菜    76\n96386  浙菜    58\n96387  亚菜    49\n96388  甜点    33\n96395  料理    25\n\n[53411 rows x 2 columns]",
      "text/html": "<div>\n<style scoped>\n    .dataframe tbody tr th:only-of-type {\n        vertical-align: middle;\n    }\n\n    .dataframe tbody tr th {\n        vertical-align: top;\n    }\n\n    .dataframe thead th {\n        text-align: right;\n    }\n</style>\n<table border=\"1\" class=\"dataframe\">\n  <thead>\n    <tr style=\"text-align: right;\">\n      <th></th>\n      <th>类别</th>\n      <th>人均消费</th>\n    </tr>\n  </thead>\n  <tbody>\n    <tr>\n      <th>0</th>\n      <td>烧烤</td>\n      <td>124</td>\n    </tr>\n    <tr>\n      <th>2</th>\n      <td>粤菜</td>\n      <td>141</td>\n    </tr>\n    <tr>\n      <th>3</th>\n      <td>海鲜</td>\n      <td>148</td>\n    </tr>\n    <tr>\n      <th>4</th>\n      <td>烧烤</td>\n      <td>143</td>\n    </tr>\n    <tr>\n      <th>5</th>\n      <td>本菜</td>\n      <td>66</td>\n    </tr>\n    <tr>\n      <th>...</th>\n      <td>...</td>\n      <td>...</td>\n    </tr>\n    <tr>\n      <th>96382</th>\n      <td>浙菜</td>\n      <td>76</td>\n    </tr>\n    <tr>\n      <th>96386</th>\n      <td>浙菜</td>\n      <td>58</td>\n    </tr>\n    <tr>\n      <th>96387</th>\n      <td>亚菜</td>\n      <td>49</td>\n    </tr>\n    <tr>\n      <th>96388</th>\n      <td>甜点</td>\n      <td>33</td>\n    </tr>\n    <tr>\n      <th>96395</th>\n      <td>料理</td>\n      <td>25</td>\n    </tr>\n  </tbody>\n</table>\n<p>53411 rows × 2 columns</p>\n</div>"
     },
     "execution_count": 16,
     "metadata": {},
     "output_type": "execute_result"
    }
   ],
   "source": [
    "data_rj = f2(data1, '人均消费' )\n",
    "data_rj"
   ],
   "metadata": {
    "collapsed": false,
    "ExecuteTime": {
     "end_time": "2025-05-06T13:56:58.919874Z",
     "start_time": "2025-05-06T13:56:58.907602Z"
    }
   },
   "id": "d0482dad59f032df",
   "execution_count": 16
  },
  {
   "cell_type": "code",
   "outputs": [
    {
     "data": {
      "text/plain": "       类别        性价比\n0      烧烤  16.663710\n2      粤菜  13.946809\n3      海鲜  14.449324\n4      烧烤  14.848951\n5      本菜  17.227273\n...    ..        ...\n96382  浙菜  14.797368\n96386  浙菜  14.624138\n96387  亚菜  14.244898\n96388  甜点  16.345455\n96395  料理  14.580000\n\n[54887 rows x 2 columns]",
      "text/html": "<div>\n<style scoped>\n    .dataframe tbody tr th:only-of-type {\n        vertical-align: middle;\n    }\n\n    .dataframe tbody tr th {\n        vertical-align: top;\n    }\n\n    .dataframe thead th {\n        text-align: right;\n    }\n</style>\n<table border=\"1\" class=\"dataframe\">\n  <thead>\n    <tr style=\"text-align: right;\">\n      <th></th>\n      <th>类别</th>\n      <th>性价比</th>\n    </tr>\n  </thead>\n  <tbody>\n    <tr>\n      <th>0</th>\n      <td>烧烤</td>\n      <td>16.663710</td>\n    </tr>\n    <tr>\n      <th>2</th>\n      <td>粤菜</td>\n      <td>13.946809</td>\n    </tr>\n    <tr>\n      <th>3</th>\n      <td>海鲜</td>\n      <td>14.449324</td>\n    </tr>\n    <tr>\n      <th>4</th>\n      <td>烧烤</td>\n      <td>14.848951</td>\n    </tr>\n    <tr>\n      <th>5</th>\n      <td>本菜</td>\n      <td>17.227273</td>\n    </tr>\n    <tr>\n      <th>...</th>\n      <td>...</td>\n      <td>...</td>\n    </tr>\n    <tr>\n      <th>96382</th>\n      <td>浙菜</td>\n      <td>14.797368</td>\n    </tr>\n    <tr>\n      <th>96386</th>\n      <td>浙菜</td>\n      <td>14.624138</td>\n    </tr>\n    <tr>\n      <th>96387</th>\n      <td>亚菜</td>\n      <td>14.244898</td>\n    </tr>\n    <tr>\n      <th>96388</th>\n      <td>甜点</td>\n      <td>16.345455</td>\n    </tr>\n    <tr>\n      <th>96395</th>\n      <td>料理</td>\n      <td>14.580000</td>\n    </tr>\n  </tbody>\n</table>\n<p>54887 rows × 2 columns</p>\n</div>"
     },
     "execution_count": 17,
     "metadata": {},
     "output_type": "execute_result"
    }
   ],
   "source": [
    "data_xjb = f2(data1, '性价比')\n",
    "data_xjb"
   ],
   "metadata": {
    "collapsed": false,
    "ExecuteTime": {
     "end_time": "2025-05-06T13:56:58.936647Z",
     "start_time": "2025-05-06T13:56:58.921172Z"
    }
   },
   "id": "ea15e55df6afdaf7",
   "execution_count": 17
  },
  {
   "cell_type": "code",
   "outputs": [
    {
     "data": {
      "text/plain": "<Figure size 1000x400 with 3 Axes>",
      "image/png": "[encoded data removed]"
     },
     "metadata": {},
     "output_type": "display_data"
    }
   ],
   "source": [
    "f1()"
   ],
   "metadata": {
    "collapsed": false,
    "ExecuteTime": {
     "end_time": "2025-05-06T13:56:59.170817Z",
     "start_time": "2025-05-06T13:56:58.937658Z"
    }
   },
   "id": "f5fad16a44ebba9e",
   "execution_count": 18
  },
  {
   "cell_type": "code",
   "outputs": [],
   "source": [
    "#标准化指标与排序\n",
    "def f3(data, col, group_by_column='类别'):\n",
    "    data_gp = data.groupby(group_by_column).mean()\n",
    "    col_name = col + 'norm'\n",
    "    data_gp[col_name] = (data_gp[col] - data_gp[col].min()) / (data_gp[col].max() - data_gp[col].min())\n",
    "    data_gp.sort_values(by=col_name, inplace=True, ascending=False)\n",
    "    return data_gp"
   ],
   "metadata": {
    "collapsed": false,
    "ExecuteTime": {
     "end_time": "2025-05-06T13:56:59.176636Z",
     "start_time": "2025-05-06T13:56:59.170817Z"
    }
   },
   "id": "d70fe64b56cd12d3",
   "execution_count": 19
  },
  {
   "cell_type": "code",
   "outputs": [],
   "source": [
    "data_kw_score=f3(data_kw,'口味')"
   ],
   "metadata": {
    "collapsed": false,
    "ExecuteTime": {
     "end_time": "2025-05-06T13:56:59.186510Z",
     "start_time": "2025-05-06T13:56:59.178740Z"
    }
   },
   "id": "31f69d2a8b742c48",
   "execution_count": 20
  },
  {
   "cell_type": "code",
   "outputs": [],
   "source": [
    "data_rj_score=f3(data_rj,'人均消费')"
   ],
   "metadata": {
    "collapsed": false,
    "ExecuteTime": {
     "end_time": "2025-05-06T13:56:59.197689Z",
     "start_time": "2025-05-06T13:56:59.186510Z"
    }
   },
   "id": "f132c474f1fce3ce",
   "execution_count": 21
  },
  {
   "cell_type": "code",
   "outputs": [],
   "source": [
    "data_xjb_score=f3(data_xjb,'性价比')"
   ],
   "metadata": {
    "collapsed": false,
    "ExecuteTime": {
     "end_time": "2025-05-06T13:56:59.206573Z",
     "start_time": "2025-05-06T13:56:59.198194Z"
    }
   },
   "id": "bb52afcb3bae53a7",
   "execution_count": 22
  },
  {
   "cell_type": "code",
   "outputs": [
    {
     "name": "stdout",
     "output_type": "stream",
     "text": [
      "          口味    口味norm\n",
      "类别                    \n",
      "素菜  8.021705  1.000000\n",
      "南菜  7.984874  0.948128\n",
      "本菜  7.959824  0.912848\n",
      "火锅  7.949428  0.898206\n",
      "亚菜  7.889937  0.814421\n",
      "蟹宴  7.873469  0.791228\n",
      "西餐  7.853583  0.763221\n",
      "疆菜  7.791221  0.675392\n",
      "州菜  7.772500  0.649026\n",
      "料理  7.770436  0.646118\n",
      "海鲜  7.693175  0.537306\n",
      "粤菜  7.635520  0.456107\n",
      "啡厅  7.630942  0.449659\n",
      "湾菜  7.607396  0.416498\n",
      "烧烤  7.606011  0.414547\n",
      "西菜  7.541071  0.323088\n",
      "甜点  7.524346  0.299533\n",
      "龙虾  7.508283  0.276909\n",
      "面馆  7.505263  0.272656\n",
      "浙菜  7.503864  0.270686\n",
      "午茶  7.500000  0.265244\n",
      "川菜  7.489197  0.250029\n",
      "美食  7.469031  0.221627\n",
      "助餐  7.394745  0.117006\n",
      "快餐  7.361730  0.070508\n",
      "湘菜  7.353606  0.059066\n",
      "北菜  7.350125  0.054164\n",
      "常菜  7.311667  0.000000\n"
     ]
    }
   ],
   "source": [
    "print(data_kw_score)"
   ],
   "metadata": {
    "collapsed": false,
    "ExecuteTime": {
     "end_time": "2025-05-06T13:56:59.213924Z",
     "start_time": "2025-05-06T13:56:59.207934Z"
    }
   },
   "id": "2e6f54c8f2169c9",
   "execution_count": 23
  },
  {
   "cell_type": "code",
   "outputs": [
    {
     "name": "stdout",
     "output_type": "stream",
     "text": [
      "          人均消费  人均消费norm\n",
      "类别                      \n",
      "午茶  150.000000  1.000000\n",
      "助餐  125.562278  0.802928\n",
      "蟹宴  123.475248  0.786097\n",
      "海鲜  113.282158  0.703898\n",
      "本菜  111.316243  0.688044\n",
      "火锅   98.524051  0.584884\n",
      "龙虾   96.593656  0.569317\n",
      "亚菜   94.426724  0.551842\n",
      "西餐   93.768841  0.546537\n",
      "粤菜   91.484435  0.528115\n",
      "南菜   91.411765  0.527529\n",
      "浙菜   86.794212  0.490292\n",
      "料理   75.802834  0.401655\n",
      "烧烤   73.534963  0.383366\n",
      "素菜   71.251969  0.364955\n",
      "州菜   71.125000  0.363931\n",
      "西菜   67.339286  0.333402\n",
      "湾菜   64.836310  0.313218\n",
      "川菜   63.249144  0.300418\n",
      "美食   61.305644  0.284745\n",
      "疆菜   59.610687  0.271077\n",
      "湘菜   58.823276  0.264727\n",
      "北菜   50.478750  0.197434\n",
      "常菜   46.258333  0.163400\n",
      "啡厅   45.053159  0.153681\n",
      "甜点   30.706620  0.037987\n",
      "面馆   27.947368  0.015735\n",
      "快餐   25.996115  0.000000\n"
     ]
    }
   ],
   "source": [
    "print(data_rj_score)"
   ],
   "metadata": {
    "collapsed": false,
    "ExecuteTime": {
     "end_time": "2025-05-06T13:56:59.221075Z",
     "start_time": "2025-05-06T13:56:59.214939Z"
    }
   },
   "id": "ca8cf5552befc6",
   "execution_count": 24
  },
  {
   "cell_type": "code",
   "outputs": [
    {
     "name": "stdout",
     "output_type": "stream",
     "text": [
      "          性价比   性价比norm\n",
      "类别                     \n",
      "南菜  16.349142  1.000000\n",
      "素菜  16.245269  0.935312\n",
      "午茶  16.151333  0.876812\n",
      "西餐  16.064819  0.822935\n",
      "亚菜  16.031866  0.802412\n",
      "本菜  16.023882  0.797441\n",
      "火锅  15.866435  0.699388\n",
      "蟹宴  15.681620  0.584293\n",
      "州菜  15.642693  0.560050\n",
      "疆菜  15.639593  0.558120\n",
      "料理  15.623516  0.548108\n",
      "啡厅  15.604038  0.535977\n",
      "粤菜  15.458151  0.445125\n",
      "湾菜  15.440295  0.434005\n",
      "甜点  15.404661  0.411813\n",
      "海鲜  15.296297  0.344328\n",
      "助餐  15.294203  0.343024\n",
      "烧烤  15.197260  0.282652\n",
      "西菜  15.186802  0.276139\n",
      "美食  15.135392  0.244123\n",
      "川菜  15.048824  0.190211\n",
      "浙菜  15.047518  0.189398\n",
      "面馆  15.029338  0.178076\n",
      "快餐  14.942965  0.124286\n",
      "龙虾  14.785400  0.026161\n",
      "北菜  14.774439  0.019334\n",
      "湘菜  14.766607  0.014457\n",
      "常菜  14.743393  0.000000\n"
     ]
    }
   ],
   "source": [
    "print(data_xjb_score)"
   ],
   "metadata": {
    "collapsed": false,
    "ExecuteTime": {
     "end_time": "2025-05-06T13:56:59.229434Z",
     "start_time": "2025-05-06T13:56:59.221075Z"
    }
   },
   "id": "d0d6aae1df0ee961",
   "execution_count": 25
  },
  {
   "cell_type": "code",
   "outputs": [],
   "source": [
    "# 第一次合并（口味 + 人均消费）\n",
    "data_final_q1 = pd.merge(\n",
    "    data_kw_score, \n",
    "    data_rj_score, \n",
    "    left_index=True, # 对应同一家店铺\n",
    "    right_index=True\n",
    "    \n",
    ")\n",
    "\n",
    "# 第二次合并（结果 + 性价比）\n",
    "data_final_q1 = pd.merge(\n",
    "    data_final_q1, \n",
    "    data_xjb_score, \n",
    "    left_index=True, \n",
    "    right_index=True\n",
    ")"
   ],
   "metadata": {
    "collapsed": false,
    "ExecuteTime": {
     "end_time": "2025-05-06T13:56:59.237165Z",
     "start_time": "2025-05-06T13:56:59.230454Z"
    }
   },
   "id": "e75ce2fd8c7e777f",
   "execution_count": 26
  },
  {
   "cell_type": "code",
   "outputs": [
    {
     "name": "stdout",
     "output_type": "stream",
     "text": [
      "          口味    口味norm        人均消费  人均消费norm        性价比   性价比norm\n",
      "类别                                                               \n",
      "素菜  8.021705  1.000000   71.251969  0.364955  16.245269  0.935312\n",
      "南菜  7.984874  0.948128   91.411765  0.527529  16.349142  1.000000\n",
      "本菜  7.959824  0.912848  111.316243  0.688044  16.023882  0.797441\n",
      "火锅  7.949428  0.898206   98.524051  0.584884  15.866435  0.699388\n",
      "亚菜  7.889937  0.814421   94.426724  0.551842  16.031866  0.802412\n",
      "蟹宴  7.873469  0.791228  123.475248  0.786097  15.681620  0.584293\n",
      "西餐  7.853583  0.763221   93.768841  0.546537  16.064819  0.822935\n",
      "疆菜  7.791221  0.675392   59.610687  0.271077  15.639593  0.558120\n",
      "州菜  7.772500  0.649026   71.125000  0.363931  15.642693  0.560050\n",
      "料理  7.770436  0.646118   75.802834  0.401655  15.623516  0.548108\n",
      "海鲜  7.693175  0.537306  113.282158  0.703898  15.296297  0.344328\n",
      "粤菜  7.635520  0.456107   91.484435  0.528115  15.458151  0.445125\n",
      "啡厅  7.630942  0.449659   45.053159  0.153681  15.604038  0.535977\n",
      "湾菜  7.607396  0.416498   64.836310  0.313218  15.440295  0.434005\n",
      "烧烤  7.606011  0.414547   73.534963  0.383366  15.197260  0.282652\n",
      "西菜  7.541071  0.323088   67.339286  0.333402  15.186802  0.276139\n",
      "甜点  7.524346  0.299533   30.706620  0.037987  15.404661  0.411813\n",
      "龙虾  7.508283  0.276909   96.593656  0.569317  14.785400  0.026161\n",
      "面馆  7.505263  0.272656   27.947368  0.015735  15.029338  0.178076\n",
      "浙菜  7.503864  0.270686   86.794212  0.490292  15.047518  0.189398\n",
      "午茶  7.500000  0.265244  150.000000  1.000000  16.151333  0.876812\n",
      "川菜  7.489197  0.250029   63.249144  0.300418  15.048824  0.190211\n",
      "美食  7.469031  0.221627   61.305644  0.284745  15.135392  0.244123\n",
      "助餐  7.394745  0.117006  125.562278  0.802928  15.294203  0.343024\n",
      "快餐  7.361730  0.070508   25.996115  0.000000  14.942965  0.124286\n",
      "湘菜  7.353606  0.059066   58.823276  0.264727  14.766607  0.014457\n",
      "北菜  7.350125  0.054164   50.478750  0.197434  14.774439  0.019334\n",
      "常菜  7.311667  0.000000   46.258333  0.163400  14.743393  0.000000\n"
     ]
    }
   ],
   "source": [
    "\n",
    "print(data_final_q1)"
   ],
   "metadata": {
    "collapsed": false,
    "ExecuteTime": {
     "end_time": "2025-05-06T13:56:59.245788Z",
     "start_time": "2025-05-06T13:56:59.238175Z"
    }
   },
   "id": "1ee544bdc544c5b1",
   "execution_count": 27
  },
  {
   "cell_type": "code",
   "outputs": [],
   "source": [
    "data_final_q1['size']=data_final_q1['口味norm']*40"
   ],
   "metadata": {
    "collapsed": false,
    "ExecuteTime": {
     "end_time": "2025-05-06T13:56:59.250893Z",
     "start_time": "2025-05-06T13:56:59.246798Z"
    }
   },
   "id": "ca6777d07119851b",
   "execution_count": 28
  },
  {
   "cell_type": "code",
   "outputs": [],
   "source": [
    "#3.绘制图表辅助分析"
   ],
   "metadata": {
    "collapsed": false,
    "ExecuteTime": {
     "end_time": "2025-05-06T13:56:59.256363Z",
     "start_time": "2025-05-06T13:56:59.250893Z"
    }
   },
   "id": "de6c74d0f145adbd",
   "execution_count": 29
  },
  {
   "cell_type": "code",
   "outputs": [
    {
     "name": "stdout",
     "output_type": "stream",
     "text": [
      "['口味', '口味norm', '人均消费', '人均消费norm', '性价比', '性价比norm', 'size']\n"
     ]
    }
   ],
   "source": [
    "print(data_final_q1.columns.tolist())"
   ],
   "metadata": {
    "collapsed": false,
    "ExecuteTime": {
     "end_time": "2025-05-06T13:56:59.262497Z",
     "start_time": "2025-05-06T13:56:59.257372Z"
    }
   },
   "id": "719e97feb85dffa",
   "execution_count": 30
  },
  {
   "cell_type": "code",
   "outputs": [],
   "source": [
    "data_final_q1.columns=['kw','kw_norm','price','price_norm','xjb','xjb_norm','size']\n",
    "#将名改为英文"
   ],
   "metadata": {
    "collapsed": false,
    "ExecuteTime": {
     "end_time": "2025-05-06T13:56:59.267876Z",
     "start_time": "2025-05-06T13:56:59.262497Z"
    }
   },
   "id": "4b734d06a884a0bf",
   "execution_count": 31
  },
  {
   "cell_type": "markdown",
   "source": [],
   "metadata": {
    "collapsed": false
   },
   "id": "c0f0c4cd957b9699"
  },
  {
   "cell_type": "code",
   "outputs": [
    {
     "name": "stdout",
     "output_type": "stream",
     "text": [
      "          kw   kw_norm       price  price_norm        xjb  xjb_norm       size\n",
      "类别                                                                            \n",
      "素菜  8.021705  1.000000   71.251969    0.364955  16.245269  0.935312  40.000000\n",
      "南菜  7.984874  0.948128   91.411765    0.527529  16.349142  1.000000  37.925100\n",
      "本菜  7.959824  0.912848  111.316243    0.688044  16.023882  0.797441  36.513934\n",
      "火锅  7.949428  0.898206   98.524051    0.584884  15.866435  0.699388  35.928242\n",
      "亚菜  7.889937  0.814421   94.426724    0.551842  16.031866  0.802412  32.576838\n",
      "蟹宴  7.873469  0.791228  123.475248    0.786097  15.681620  0.584293  31.649130\n",
      "西餐  7.853583  0.763221   93.768841    0.546537  16.064819  0.822935  30.528840\n",
      "疆菜  7.791221  0.675392   59.610687    0.271077  15.639593  0.558120  27.015692\n",
      "州菜  7.772500  0.649026   71.125000    0.363931  15.642693  0.560050  25.961024\n",
      "料理  7.770436  0.646118   75.802834    0.401655  15.623516  0.548108  25.844738\n",
      "海鲜  7.693175  0.537306  113.282158    0.703898  15.296297  0.344328  21.492258\n",
      "粤菜  7.635520  0.456107   91.484435    0.528115  15.458151  0.445125  18.244289\n",
      "啡厅  7.630942  0.449659   45.053159    0.153681  15.604038  0.535977  17.986344\n",
      "湾菜  7.607396  0.416498   64.836310    0.313218  15.440295  0.434005  16.659923\n",
      "烧烤  7.606011  0.414547   73.534963    0.383366  15.197260  0.282652  16.581887\n",
      "西菜  7.541071  0.323088   67.339286    0.333402  15.186802  0.276139  12.923506\n",
      "甜点  7.524346  0.299533   30.706620    0.037987  15.404661  0.411813  11.981300\n",
      "龙虾  7.508283  0.276909   96.593656    0.569317  14.785400  0.026161  11.076379\n",
      "面馆  7.505263  0.272656   27.947368    0.015735  15.029338  0.178076  10.906249\n",
      "浙菜  7.503864  0.270686   86.794212    0.490292  15.047518  0.189398  10.827427\n",
      "午茶  7.500000  0.265244  150.000000    1.000000  16.151333  0.876812  10.609749\n",
      "川菜  7.489197  0.250029   63.249144    0.300418  15.048824  0.190211  10.001178\n",
      "美食  7.469031  0.221627   61.305644    0.284745  15.135392  0.244123   8.865090\n",
      "助餐  7.394745  0.117006  125.562278    0.802928  15.294203  0.343024   4.680241\n",
      "快餐  7.361730  0.070508   25.996115    0.000000  14.942965  0.124286   2.820309\n",
      "湘菜  7.353606  0.059066   58.823276    0.264727  14.766607  0.014457   2.362652\n",
      "北菜  7.350125  0.054164   50.478750    0.197434  14.774439  0.019334   2.166548\n",
      "常菜  7.311667  0.000000   46.258333    0.163400  14.743393  0.000000   0.000000\n"
     ]
    }
   ],
   "source": [
    "print(data_final_q1)"
   ],
   "metadata": {
    "collapsed": false,
    "ExecuteTime": {
     "end_time": "2025-05-06T13:56:59.277668Z",
     "start_time": "2025-05-06T13:56:59.270311Z"
    }
   },
   "id": "21c1b1c06e79d458",
   "execution_count": 32
  },
  {
   "cell_type": "code",
   "outputs": [
    {
     "name": "stdout",
     "output_type": "stream",
     "text": [
      "['kw', 'kw_norm', 'price', 'price_norm', 'xjb', 'xjb_norm', 'size']\n"
     ]
    }
   ],
   "source": [
    "print(data_final_q1.columns.tolist())"
   ],
   "metadata": {
    "collapsed": false,
    "ExecuteTime": {
     "end_time": "2025-05-06T13:57:00.898862Z",
     "start_time": "2025-05-06T13:57:00.894900Z"
    }
   },
   "id": "c5e561492d9134f9",
   "execution_count": 33
  },
  {
   "cell_type": "code",
   "outputs": [],
   "source": [
    "#绘制图表辅助分析"
   ],
   "metadata": {
    "collapsed": false,
    "ExecuteTime": {
     "end_time": "2025-05-06T13:57:02.135488Z",
     "start_time": "2025-05-06T13:57:02.129539Z"
    }
   },
   "id": "5026705baf23a5f2",
   "execution_count": 34
  },
  {
   "cell_type": "code",
   "outputs": [],
   "source": [
    "from bokeh.plotting import figure, output_file, show\n",
    "from bokeh.models import ColumnDataSource, FactorRange\n",
    "from bokeh.layouts import column\n",
    "from bokeh.models import HoverTool\n",
    "from bokeh.models.annotations import BoxAnnotation\n",
    "\n",
    "# 输出文件设置\n",
    "output_file(\"project07_h1.html\")\n",
    "\n",
    "# 确保 data_final_q1 是一个有效的 DataFrame\n",
    "source = ColumnDataSource(data=data_final_q1)  # 确保 data_final_q1 已定义\n",
    "\n",
    "# 修复 1: 统一变量名 hover (原为 hower)\n",
    "hover = HoverTool(  # 将变量名从 hower 改为 hover\n",
    "    tooltips=[\n",
    "        ('餐饮类型', '@类别'),\n",
    "        ('人均消费', '@price'),\n",
    "        ('性价比得分', '@xjb_norm'),\n",
    "        ('口味得分', '@kw_norm')\n",
    "    ]\n",
    ")\n",
    "\n",
    "data_type = data_final_q1.index.tolist()\n",
    "\n",
    "# 创建第一个图表：餐饮类型得分（散点图）\n",
    "result = figure(\n",
    "    width=800,\n",
    "    height=300,\n",
    "    title='餐饮类型得分',\n",
    "    x_axis_label='人均消费',\n",
    "    y_axis_label='性价比得分',\n",
    "    tools=[hover, 'box_select,reset,xwheel_zoom,pan,crosshair']  # 修复 2: 添加 hover 工具\n",
    ")\n",
    "result.circle(\n",
    "    x='price',\n",
    "    y='xjb_norm',\n",
    "    source=source,\n",
    "    line_color='black',\n",
    "    fill_alpha=0.6,\n",
    "    size='size'\n",
    ")\n",
    "price_mid = BoxAnnotation(left=40, right=80, fill_alpha=0.1, fill_color='navy') \n",
    "result.add_layout(price_mid)\n",
    "\n",
    "# 修复 3: 使用统一的 source 和正确的工具名\n",
    "kw = figure(\n",
    "    width=800,\n",
    "    height=300,\n",
    "    title='口味得分',\n",
    "    x_range=data_type,\n",
    "    tools=[hover, 'box_select,reset,xwheel_zoom,pan,crosshair']  # 使用已定义的 hover\n",
    ")\n",
    "kw.vbar(\n",
    "    x='类别',\n",
    "    top='kw_norm',\n",
    "    source=source,\n",
    "    width=0.8,\n",
    "    alpha=0.7,\n",
    "    color='red',\n",
    "    bottom=0\n",
    ")\n",
    "\n",
    "price = figure(\n",
    "    width=800,\n",
    "    height=300,\n",
    "    title='人均消费得分',\n",
    "    x_range=data_type,\n",
    "    tools=[hover, 'box_select,reset,xwheel_zoom,pan,crosshair']  # 使用已定义的 hover\n",
    ")\n",
    "price.vbar(\n",
    "    x='类别',\n",
    "    top='price_norm',  # 确保数据中存在 price_norm 列\n",
    "    source=source,\n",
    "    width=0.8,\n",
    "    alpha=0.7,\n",
    "    color='green'\n",
    ")\n",
    "\n",
    "# 修复 4: 使用 column 布局更直观\n",
    "p = column(result, kw, price)\n",
    "show(p)"
   ],
   "metadata": {
    "collapsed": false,
    "ExecuteTime": {
     "end_time": "2025-05-06T14:25:28.697786Z",
     "start_time": "2025-05-06T14:25:28.271928Z"
    }
   },
   "id": "e3b080c117c7c224",
   "execution_count": 56
  },
  {
   "cell_type": "code",
   "outputs": [],
   "source": [],
   "metadata": {
    "collapsed": false
   },
   "id": "1c401f9b84f2473c"
  }
 ],
 "metadata": {
  "kernelspec": {
   "display_name": "Python 3",
   "language": "python",
   "name": "python3"
  },
  "language_info": {
   "codemirror_mode": {
    "name": "ipython",
    "version": 2
   },
   "file_extension": ".py",
   "mimetype": "text/x-python",
   "name": "python",
   "nbconvert_exporter": "python",
   "pygments_lexer": "ipython2",
   "version": "2.7.6"
  }
 },
 "nbformat": 4,
 "nbformat_minor": 5
}
