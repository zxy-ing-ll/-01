{
 "cells": [
  {
   "cell_type": "code",
   "execution_count": 149,
   "id": "c5cdf4d4-43a8-45ea-be27-a593343d8906",
   "metadata": {},
   "outputs": [
    {
     "name": "stdout",
     "output_type": "stream",
     "text": [
      "Looking in indexes: https://mirror.nju.edu.cn/pypi/web/simple\n",
      "Requirement already satisfied: pandas in e:\\python visualization\\lib\\site-packages (2.2.3)\n",
      "Requirement already satisfied: numpy>=1.26.0 in e:\\python visualization\\lib\\site-packages (from pandas) (1.26.4)\n",
      "Requirement already satisfied: python-dateutil>=2.8.2 in e:\\python visualization\\lib\\site-packages (from pandas) (2.9.0.post0)\n",
      "Requirement already satisfied: pytz>=2020.1 in e:\\python visualization\\lib\\site-packages (from pandas) (2024.1)\n",
      "Requirement already satisfied: tzdata>=2022.7 in e:\\python visualization\\lib\\site-packages (from pandas) (2023.3)\n",
      "Requirement already satisfied: six>=1.5 in e:\\python visualization\\lib\\site-packages (from python-dateutil>=2.8.2->pandas) (1.16.0)\n",
      "Note: you may need to restart the kernel to use updated packages.\n"
     ]
    }
   ],
   "source": [
    "pip install pandas"
   ]
  },
  {
   "cell_type": "code",
   "execution_count": 150,
   "id": "dbaf5565-3967-44c7-8dca-4e7f9af220ec",
   "metadata": {},
   "outputs": [
    {
     "name": "stdout",
     "output_type": "stream",
     "text": [
      "Looking in indexes: https://mirror.nju.edu.cn/pypi/web/simple\n",
      "Requirement already satisfied: matplotlib in e:\\python visualization\\lib\\site-packages (3.9.2)\n",
      "Requirement already satisfied: contourpy>=1.0.1 in e:\\python visualization\\lib\\site-packages (from matplotlib) (1.2.0)\n",
      "Requirement already satisfied: cycler>=0.10 in e:\\python visualization\\lib\\site-packages (from matplotlib) (0.11.0)\n",
      "Requirement already satisfied: fonttools>=4.22.0 in e:\\python visualization\\lib\\site-packages (from matplotlib) (4.51.0)\n",
      "Requirement already satisfied: kiwisolver>=1.3.1 in e:\\python visualization\\lib\\site-packages (from matplotlib) (1.4.4)\n",
      "Requirement already satisfied: numpy>=1.23 in e:\\python visualization\\lib\\site-packages (from matplotlib) (1.26.4)\n",
      "Requirement already satisfied: packaging>=20.0 in e:\\python visualization\\lib\\site-packages (from matplotlib) (23.2)\n",
      "Requirement already satisfied: pillow>=8 in e:\\python visualization\\lib\\site-packages (from matplotlib) (10.3.0)\n",
      "Requirement already satisfied: pyparsing>=2.3.1 in e:\\python visualization\\lib\\site-packages (from matplotlib) (3.0.9)\n",
      "Requirement already satisfied: python-dateutil>=2.7 in e:\\python visualization\\lib\\site-packages (from matplotlib) (2.9.0.post0)\n",
      "Requirement already satisfied: six>=1.5 in e:\\python visualization\\lib\\site-packages (from python-dateutil>=2.7->matplotlib) (1.16.0)\n",
      "Note: you may need to restart the kernel to use updated packages.\n"
     ]
    }
   ],
   "source": [
    "pip install matplotlib"
   ]
  },
  {
   "cell_type": "code",
   "execution_count": 151,
   "id": "759c7ea0-e918-4967-85e8-8e92f894e66d",
   "metadata": {},
   "outputs": [
    {
     "name": "stdout",
     "output_type": "stream",
     "text": [
      "Looking in indexes: https://mirror.nju.edu.cn/pypi/web/simple\n",
      "Requirement already satisfied: seaborn in e:\\python visualization\\lib\\site-packages (0.13.2)\n",
      "Requirement already satisfied: numpy!=1.24.0,>=1.20 in e:\\python visualization\\lib\\site-packages (from seaborn) (1.26.4)\n",
      "Requirement already satisfied: pandas>=1.2 in e:\\python visualization\\lib\\site-packages (from seaborn) (2.2.3)\n",
      "Requirement already satisfied: matplotlib!=3.6.1,>=3.4 in e:\\python visualization\\lib\\site-packages (from seaborn) (3.9.2)\n",
      "Requirement already satisfied: contourpy>=1.0.1 in e:\\python visualization\\lib\\site-packages (from matplotlib!=3.6.1,>=3.4->seaborn) (1.2.0)\n",
      "Requirement already satisfied: cycler>=0.10 in e:\\python visualization\\lib\\site-packages (from matplotlib!=3.6.1,>=3.4->seaborn) (0.11.0)\n",
      "Requirement already satisfied: fonttools>=4.22.0 in e:\\python visualization\\lib\\site-packages (from matplotlib!=3.6.1,>=3.4->seaborn) (4.51.0)\n",
      "Requirement already satisfied: kiwisolver>=1.3.1 in e:\\python visualization\\lib\\site-packages (from matplotlib!=3.6.1,>=3.4->seaborn) (1.4.4)\n",
      "Requirement already satisfied: packaging>=20.0 in e:\\python visualization\\lib\\site-packages (from matplotlib!=3.6.1,>=3.4->seaborn) (23.2)\n",
      "Requirement already satisfied: pillow>=8 in e:\\python visualization\\lib\\site-packages (from matplotlib!=3.6.1,>=3.4->seaborn) (10.3.0)\n",
      "Requirement already satisfied: pyparsing>=2.3.1 in e:\\python visualization\\lib\\site-packages (from matplotlib!=3.6.1,>=3.4->seaborn) (3.0.9)\n",
      "Requirement already satisfied: python-dateutil>=2.7 in e:\\python visualization\\lib\\site-packages (from matplotlib!=3.6.1,>=3.4->seaborn) (2.9.0.post0)\n",
      "Requirement already satisfied: pytz>=2020.1 in e:\\python visualization\\lib\\site-packages (from pandas>=1.2->seaborn) (2024.1)\n",
      "Requirement already satisfied: tzdata>=2022.7 in e:\\python visualization\\lib\\site-packages (from pandas>=1.2->seaborn) (2023.3)\n",
      "Requirement already satisfied: six>=1.5 in e:\\python visualization\\lib\\site-packages (from python-dateutil>=2.7->matplotlib!=3.6.1,>=3.4->seaborn) (1.16.0)\n",
      "Note: you may need to restart the kernel to use updated packages.\n"
     ]
    }
   ],
   "source": [
    "pip install seaborn"
   ]
  },
  {
   "cell_type": "code",
   "execution_count": 152,
   "id": "27e9fda4-fd73-49b0-a786-c254860e93cc",
   "metadata": {},
   "outputs": [],
   "source": [
    "import pandas as pd\n",
    "import matplotlib.pyplot as plt\n",
    "import seaborn as sns"
   ]
  },
  {
   "cell_type": "markdown",
   "id": "cbe7920a-89d7-4942-ba9a-945e7a332c3d",
   "metadata": {},
   "source": [
    "### 1.字体调整"
   ]
  },
  {
   "cell_type": "code",
   "execution_count": 153,
   "id": "bbd9f788-fc7c-421b-98af-32a895891fd6",
   "metadata": {},
   "outputs": [],
   "source": [
    "plt.rcParams['font.sans-serif'] = ['SimHei']\n",
    "plt.rcParams['axes.unicode_minus'] = False"
   ]
  },
  {
   "cell_type": "markdown",
   "id": "62f612c1-35cd-487b-ae32-5728d3847de7",
   "metadata": {},
   "source": [
    "### 2.提取数据"
   ]
  },
  {
   "cell_type": "code",
   "execution_count": 154,
   "id": "3db551eb-f345-414e-a6cd-5b83ecdeedec",
   "metadata": {},
   "outputs": [],
   "source": [
    "df_train = pd.read_csv(r'H:\\期末考试\\可视化\\data (1)\\data\\train.csv')\n",
    "df_test = pd.read_csv(r'H:\\期末考试\\可视化\\data (1)\\data\\test.csv')\n",
    "df_stores = pd.read_csv(r'H:\\期末考试\\可视化\\data (1)\\data\\stores.csv')\n",
    "df_holidays = pd.read_csv(r'H:\\期末考试\\可视化\\data (1)\\data\\holidays_events.csv')\n",
    "df_oil = pd.read_csv(r'H:\\期末考试\\可视化\\data (1)\\data\\oil.csv')\n",
    "df_submission = pd.read_csv(r'H:\\期末考试\\可视化\\data (1)\\data\\sample_submission.csv')"
   ]
  },
  {
   "cell_type": "markdown",
   "id": "ac9fb37d-8a64-4c5f-8a12-020e57302737",
   "metadata": {},
   "source": [
    "### 3.将多个数据集整合到字典"
   ]
  },
  {
   "cell_type": "code",
   "execution_count": 155,
   "id": "68ef4baf-fe09-4657-89a7-fa1e90053a31",
   "metadata": {},
   "outputs": [],
   "source": [
    "datasets = {\n",
    "    'train': df_train,\n",
    "    'test': df_test,\n",
    "    'stores': df_stores,\n",
    "    'holidays': df_holidays,\n",
    "    'oil': df_oil,\n",
    "    'submission': df_submission\n",
    "}"
   ]
  },
  {
   "cell_type": "markdown",
   "id": "46850877-556b-4199-a34f-936949cfb0a0",
   "metadata": {},
   "source": [
    "### 4.查看前5的数据"
   ]
  },
  {
   "cell_type": "code",
   "execution_count": 156,
   "id": "98a16843-9d5f-43ad-b64a-d80ccfb641b8",
   "metadata": {},
   "outputs": [
    {
     "name": "stdout",
     "output_type": "stream",
     "text": [
      "\n",
      "TRAIN数据集基本信息：\n",
      "<class 'pandas.core.frame.DataFrame'>\n",
      "RangeIndex: 3000888 entries, 0 to 3000887\n",
      "Data columns (total 6 columns):\n",
      " #   Column       Dtype  \n",
      "---  ------       -----  \n",
      " 0   id           int64  \n",
      " 1   date         object \n",
      " 2   store_nbr    int64  \n",
      " 3   family       object \n",
      " 4   sales        float64\n",
      " 5   onpromotion  int64  \n",
      "dtypes: float64(1), int64(3), object(2)\n",
      "memory usage: 137.4+ MB\n",
      "\n",
      "TEST数据集基本信息：\n",
      "<class 'pandas.core.frame.DataFrame'>\n",
      "RangeIndex: 28512 entries, 0 to 28511\n",
      "Data columns (total 5 columns):\n",
      " #   Column       Non-Null Count  Dtype \n",
      "---  ------       --------------  ----- \n",
      " 0   id           28512 non-null  int64 \n",
      " 1   date         28512 non-null  object\n",
      " 2   store_nbr    28512 non-null  int64 \n",
      " 3   family       28512 non-null  object\n",
      " 4   onpromotion  28512 non-null  int64 \n",
      "dtypes: int64(3), object(2)\n",
      "memory usage: 1.1+ MB\n",
      "\n",
      "STORES数据集基本信息：\n",
      "<class 'pandas.core.frame.DataFrame'>\n",
      "RangeIndex: 54 entries, 0 to 53\n",
      "Data columns (total 5 columns):\n",
      " #   Column     Non-Null Count  Dtype \n",
      "---  ------     --------------  ----- \n",
      " 0   store_nbr  54 non-null     int64 \n",
      " 1   city       54 non-null     object\n",
      " 2   state      54 non-null     object\n",
      " 3   type       54 non-null     object\n",
      " 4   cluster    54 non-null     int64 \n",
      "dtypes: int64(2), object(3)\n",
      "memory usage: 2.2+ KB\n",
      "\n",
      "HOLIDAYS数据集基本信息：\n",
      "<class 'pandas.core.frame.DataFrame'>\n",
      "RangeIndex: 350 entries, 0 to 349\n",
      "Data columns (total 6 columns):\n",
      " #   Column       Non-Null Count  Dtype \n",
      "---  ------       --------------  ----- \n",
      " 0   date         350 non-null    object\n",
      " 1   type         350 non-null    object\n",
      " 2   locale       350 non-null    object\n",
      " 3   locale_name  350 non-null    object\n",
      " 4   description  350 non-null    object\n",
      " 5   transferred  350 non-null    bool  \n",
      "dtypes: bool(1), object(5)\n",
      "memory usage: 14.1+ KB\n",
      "\n",
      "OIL数据集基本信息：\n",
      "<class 'pandas.core.frame.DataFrame'>\n",
      "RangeIndex: 1218 entries, 0 to 1217\n",
      "Data columns (total 2 columns):\n",
      " #   Column      Non-Null Count  Dtype  \n",
      "---  ------      --------------  -----  \n",
      " 0   date        1218 non-null   object \n",
      " 1   dcoilwtico  1175 non-null   float64\n",
      "dtypes: float64(1), object(1)\n",
      "memory usage: 19.2+ KB\n",
      "\n",
      "SUBMISSION数据集基本信息：\n",
      "<class 'pandas.core.frame.DataFrame'>\n",
      "RangeIndex: 28512 entries, 0 to 28511\n",
      "Data columns (total 2 columns):\n",
      " #   Column  Non-Null Count  Dtype  \n",
      "---  ------  --------------  -----  \n",
      " 0   id      28512 non-null  int64  \n",
      " 1   sales   28512 non-null  float64\n",
      "dtypes: float64(1), int64(1)\n",
      "memory usage: 445.6 KB\n"
     ]
    }
   ],
   "source": [
    "for name, df in datasets.items():\n",
    "    print(f'\\n{name.upper()}数据集基本信息：')\n",
    "    df.info()"
   ]
  },
  {
   "cell_type": "markdown",
   "id": "b96851a5-12a5-40b5-8670-e733348dcf38",
   "metadata": {},
   "source": [
    "### 5.转换日期格式"
   ]
  },
  {
   "cell_type": "code",
   "execution_count": 157,
   "id": "f1eb5362-43a8-4a2c-9e83-0d46e9013e23",
   "metadata": {},
   "outputs": [],
   "source": [
    "# 转换日期格式\n",
    "for df in [df_train, df_test, df_holidays, df_oil]:\n",
    "    df['date'] = pd.to_datetime(df['date'])"
   ]
  },
  {
   "cell_type": "code",
   "execution_count": 158,
   "id": "9e34018a-f651-4b99-b7a0-9367c53d44af",
   "metadata": {},
   "outputs": [
    {
     "name": "stdout",
     "output_type": "stream",
     "text": [
      "train日期格式:\n",
      "0   2013-01-01\n",
      "1   2013-01-01\n",
      "2   2013-01-01\n",
      "3   2013-01-01\n",
      "4   2013-01-01\n",
      "Name: date, dtype: datetime64[ns]\n",
      "\n",
      "test日期格式:\n",
      "0   2017-08-16\n",
      "1   2017-08-16\n",
      "2   2017-08-16\n",
      "3   2017-08-16\n",
      "4   2017-08-16\n",
      "Name: date, dtype: datetime64[ns]\n",
      "\n",
      "holidays日期格式:\n",
      "0   2012-03-02\n",
      "1   2012-04-01\n",
      "2   2012-04-12\n",
      "3   2012-04-14\n",
      "4   2012-04-21\n",
      "Name: date, dtype: datetime64[ns]\n",
      "\n",
      "oil格式:\n",
      "0   2013-01-01\n",
      "1   2013-01-02\n",
      "2   2013-01-03\n",
      "3   2013-01-04\n",
      "4   2013-01-07\n",
      "Name: date, dtype: datetime64[ns]\n",
      "\n"
     ]
    }
   ],
   "source": [
    "for df in [df_train]:\n",
    "    print(f\"train日期格式:\\n{df['date'].head()}\\n\")\n",
    "for df in [ df_test]:\n",
    "    print(f\"test日期格式:\\n{df['date'].head()}\\n\")\n",
    "for df in [df_holidays]:\n",
    "    print(f\"holidays日期格式:\\n{df['date'].head()}\\n\")\n",
    "for df in [df_oil]:\n",
    "    print(f\"oil格式:\\n{df['date'].head()}\\n\")"
   ]
  },
  {
   "cell_type": "markdown",
   "id": "ba188e75-8eb6-4294-a361-fabb13aa1506",
   "metadata": {},
   "source": [
    "### 6.处理油价缺失值"
   ]
  },
  {
   "cell_type": "code",
   "execution_count": 159,
   "id": "091a87fe-3b34-4307-8c25-587f3b852b2d",
   "metadata": {},
   "outputs": [],
   "source": [
    "df_oil['dcoilwtico'] = df_oil['dcoilwtico'].ffill().fillna(0)  # 将剩余的NaN替换为0"
   ]
  },
  {
   "cell_type": "code",
   "execution_count": 160,
   "id": "3900b15f-6923-4aac-a0bd-5dde2f3aac1a",
   "metadata": {},
   "outputs": [
    {
     "name": "stdout",
     "output_type": "stream",
     "text": [
      "oil格式:\n",
      "0     0.00\n",
      "1    93.14\n",
      "2    92.97\n",
      "3    93.12\n",
      "4    93.20\n",
      "Name: dcoilwtico, dtype: float64\n",
      "\n"
     ]
    }
   ],
   "source": [
    "for df in [df_oil]:\n",
    "    print(f\"oil格式:\\n{df['dcoilwtico'].head()}\\n\")"
   ]
  },
  {
   "cell_type": "markdown",
   "id": "282beedb-60ec-47f9-8fd1-930853a599a5",
   "metadata": {},
   "source": [
    "### 7.合并数据集：train与stores、holidays、oil合并"
   ]
  },
  {
   "cell_type": "code",
   "execution_count": 161,
   "id": "1224c5f8-05a0-4b69-88e9-6fdbb1e4d96e",
   "metadata": {},
   "outputs": [],
   "source": [
    "df_merged = df_train.merge(df_stores, on='store_nbr', how='left')\n",
    "df_merged = df_merged.merge(df_holidays, on='date', how='left')\n",
    "df_merged = df_merged.merge(df_oil, on='date', how='left')"
   ]
  },
  {
   "cell_type": "code",
   "execution_count": 162,
   "id": "a809b7aa-ef67-4690-a424-c4851cdbfa94",
   "metadata": {},
   "outputs": [
    {
     "name": "stdout",
     "output_type": "stream",
     "text": [
      "Index(['id', 'date', 'store_nbr', 'family', 'sales', 'onpromotion', 'city',\n",
      "       'state', 'type_x', 'cluster', 'type_y', 'locale', 'locale_name',\n",
      "       'description', 'transferred', 'dcoilwtico'],\n",
      "      dtype='object')\n"
     ]
    }
   ],
   "source": [
    "print(df_merged.columns)"
   ]
  },
  {
   "cell_type": "code",
   "execution_count": 163,
   "id": "b57d4e31-20cb-4a3e-90e7-2ebcfe8958ce",
   "metadata": {},
   "outputs": [
    {
     "name": "stdout",
     "output_type": "stream",
     "text": [
      "   id       date  store_nbr      family  sales  onpromotion   city      state  \\\n",
      "0   0 2013-01-01          1  AUTOMOTIVE    0.0            0  Quito  Pichincha   \n",
      "1   1 2013-01-01          1   BABY CARE    0.0            0  Quito  Pichincha   \n",
      "2   2 2013-01-01          1      BEAUTY    0.0            0  Quito  Pichincha   \n",
      "3   3 2013-01-01          1   BEVERAGES    0.0            0  Quito  Pichincha   \n",
      "4   4 2013-01-01          1       BOOKS    0.0            0  Quito  Pichincha   \n",
      "\n",
      "  type_x  cluster   type_y    locale locale_name         description  \\\n",
      "0      D       13  Holiday  National     Ecuador  Primer dia del ano   \n",
      "1      D       13  Holiday  National     Ecuador  Primer dia del ano   \n",
      "2      D       13  Holiday  National     Ecuador  Primer dia del ano   \n",
      "3      D       13  Holiday  National     Ecuador  Primer dia del ano   \n",
      "4      D       13  Holiday  National     Ecuador  Primer dia del ano   \n",
      "\n",
      "  transferred  dcoilwtico  \n",
      "0       False         0.0  \n",
      "1       False         0.0  \n",
      "2       False         0.0  \n",
      "3       False         0.0  \n",
      "4       False         0.0  \n"
     ]
    }
   ],
   "source": [
    "print(df_merged.head())"
   ]
  },
  {
   "cell_type": "markdown",
   "id": "edc198aa-103f-4853-a162-06131de9d36c",
   "metadata": {},
   "source": [
    "### 8.节假日类型对销售的影响的子图"
   ]
  },
  {
   "cell_type": "code",
   "execution_count": 164,
   "id": "b205366a-e657-42f4-a66a-197495bdcf7b",
   "metadata": {},
   "outputs": [],
   "source": [
    "holiday_sales = df_merged.groupby('type_y')['sales'].mean().round(2)"
   ]
  },
  {
   "cell_type": "code",
   "execution_count": 165,
   "id": "e2ea0bc5-3d8a-4c1e-83fb-a3019d8d8169",
   "metadata": {},
   "outputs": [
    {
     "name": "stdout",
     "output_type": "stream",
     "text": [
      "节假日对销售的影响：\n",
      "type_y\n",
      "Additional    487.63\n",
      "Bridge        446.75\n",
      "Event         425.66\n",
      "Holiday       358.43\n",
      "Transfer      467.75\n",
      "Work Day      372.16\n",
      "Name: sales, dtype: float64\n"
     ]
    }
   ],
   "source": [
    "print('节假日对销售的影响：')\n",
    "print(holiday_sales)"
   ]
  },
  {
   "cell_type": "code",
   "execution_count": 166,
   "id": "210077f4-1c99-4e03-a980-6636a2425fc8",
   "metadata": {},
   "outputs": [],
   "source": [
    "family_sales = df_merged.groupby('family')['sales'].sum().sort_values(ascending=False)"
   ]
  },
  {
   "cell_type": "code",
   "execution_count": 167,
   "id": "c2c488b5-664c-4810-9a04-7dba6107ca36",
   "metadata": {},
   "outputs": [
    {
     "name": "stdout",
     "output_type": "stream",
     "text": [
      "\n",
      "不同商品类别的总销售额：\n",
      "family\n",
      "GROCERY I        3.508273e+08\n",
      "BEVERAGES        2.216635e+08\n",
      "PRODUCE          1.254480e+08\n",
      "CLEANING         9.942102e+07\n",
      "DAIRY            6.582360e+07\n",
      "BREAD/BAKERY     4.295992e+07\n",
      "POULTRY          3.249445e+07\n",
      "MEATS            3.165100e+07\n",
      "PERSONAL CARE    2.510048e+07\n",
      "DELI             2.458563e+07\n",
      "Name: sales, dtype: float64\n"
     ]
    }
   ],
   "source": [
    "print('\\n不同商品类别的总销售额：')\n",
    "print(family_sales.head(10))  # 显示前10个"
   ]
  },
  {
   "cell_type": "code",
   "execution_count": 168,
   "id": "41b62e5b-1d02-46c1-ac3f-5ddb5bd1904c",
   "metadata": {},
   "outputs": [],
   "source": [
    "oil_sales_corr = df_merged[['sales', 'dcoilwtico']].corr().iloc[0, 1].round(2)"
   ]
  },
  {
   "cell_type": "code",
   "execution_count": 169,
   "id": "13c9141a-cdfd-425e-bfb4-8979e0d512cf",
   "metadata": {},
   "outputs": [
    {
     "name": "stdout",
     "output_type": "stream",
     "text": [
      "\n",
      "油价与销售的相关性：\n",
      "-0.08\n"
     ]
    }
   ],
   "source": [
    "\n",
    "print('\\n油价与销售的相关性：')\n",
    "print(oil_sales_corr)"
   ]
  },
  {
   "cell_type": "code",
   "execution_count": 170,
   "id": "9531fefe-98ea-4cfa-bd2d-1ebf8a905147",
   "metadata": {},
   "outputs": [],
   "source": [
    "city_sales = df_merged.groupby('city')['sales'].sum().sort_values(ascending=False)"
   ]
  },
  {
   "cell_type": "code",
   "execution_count": 171,
   "id": "c239033d-45a3-40eb-9ca0-324406583af9",
   "metadata": {},
   "outputs": [
    {
     "name": "stdout",
     "output_type": "stream",
     "text": [
      "\n",
      "不同城市的总销售额：\n",
      "city\n",
      "Quito            5.686793e+08\n",
      "Guayaquil        1.255722e+08\n",
      "Cuenca           5.019405e+07\n",
      "Ambato           4.115977e+07\n",
      "Santo Domingo    3.661757e+07\n",
      "Machala          3.409467e+07\n",
      "Cayambe          2.890653e+07\n",
      "Latacunga        2.160778e+07\n",
      "Daule            1.960276e+07\n",
      "Loja             1.924817e+07\n",
      "Name: sales, dtype: float64\n"
     ]
    }
   ],
   "source": [
    "print('\\n不同城市的总销售额：')\n",
    "print(city_sales.head(10))  # 显示前10个"
   ]
  },
  {
   "cell_type": "code",
   "execution_count": 172,
   "id": "d824a0f8-877d-4d2a-838c-779fb4ec6d2f",
   "metadata": {},
   "outputs": [],
   "source": [
    "\n",
    "holiday_type_mapping = {\n",
    "    'Additional': '补充假期',\n",
    "    'Bridge': '桥接日',\n",
    "    'Event': '活动日',\n",
    "    'Holiday': '常规假期',\n",
    "    'Transfer': '调休日',\n",
    "    'Work Day': '工作日'\n",
    "}\n",
    "\n",
    "\n",
    "holiday_sales = holiday_sales.rename(index=holiday_type_mapping)\n",
    "\n",
    "\n",
    "\n",
    "plt.figure(figsize=(10, 6))\n",
    "holiday_sales.plot(kind='bar')\n",
    "plt.title('节假日类型对销售的影响')\n",
    "plt.xlabel('节假日类型')\n",
    "plt.ylabel('平均销售额')\n",
    "plt.tight_layout()\n",
    "plt.savefig(\"H:\\期末考试\\可视化\\节假日类型对销售的影响.png\", dpi=300, bbox_inches='tight')\n",
    "plt.close()"
   ]
  },
  {
   "cell_type": "markdown",
   "id": "5ac476ed-a949-45ef-963f-8604a84867e6",
   "metadata": {},
   "source": [
    "### 8.商品类别销售分布（前10）"
   ]
  },
  {
   "cell_type": "code",
   "execution_count": 175,
   "id": "4ebd6bbb-e90c-48f0-a0d8-57652bc640ac",
   "metadata": {},
   "outputs": [],
   "source": [
    "\n",
    "category_map = {\n",
    "    \"GROCERY I\": \"杂货\",       \n",
    "    \"BEVERAGES\": \"饮料\",\n",
    "    \"PRODUCE\": \"农产品\",\n",
    "    \"CLEANING\": \"清洁用品\",\n",
    "    \"DAIRY\": \"乳制品\",\n",
    "    \"BREAD/BAKERY\": \"面包烘焙\",\n",
    "    \"POULTRY\": \"家禽\",\n",
    "    \"MEATS\": \"肉类\",\n",
    "    \"PERSONAL CARE\": \"个人护理\",\n",
    "    \"DELI\": \"熟食店\"\n",
    "}\n",
    "\n",
    "\n",
    "family_sales_chinese = family_sales.rename(index=category_map)\n",
    "sorted_sales = family_sales_chinese.sort_values(ascending=False).head(10)\n",
    "\n",
    "\n",
    "plt.rcParams['font.sans-serif'] = ['Microsoft YaHei']  \n",
    "plt.rcParams['axes.unicode_minus'] = False  \n",
    "\n",
    "\n",
    "plt.figure(figsize=(10, 6))\n",
    "sorted_sales.plot(kind='barh')  \n",
    "plt.gca().invert_yaxis()      \n",
    "plt.title('商品类别销售分布（前10）')\n",
    "plt.xlabel('总销售额 (1e8)')\n",
    "plt.ylabel('商品类别')\n",
    "plt.tight_layout()\n",
    "plt.savefig(\"H:\\期末考试\\可视化\\商品类别销售分布（前10）.png\", dpi=300, bbox_inches='tight')\n",
    "plt.close()"
   ]
  },
  {
   "cell_type": "markdown",
   "id": "518ae57e-f63d-45a0-8010-11049f52aec2",
   "metadata": {},
   "source": [
    "### 9.油价与销售的时间趋势"
   ]
  },
  {
   "cell_type": "code",
   "execution_count": 180,
   "id": "331d621f-c6c0-4a57-8099-ab0cc72408ab",
   "metadata": {
    "scrolled": true
   },
   "outputs": [
    {
     "data": {
      "text/plain": [
       "<Figure size 2000x600 with 0 Axes>"
      ]
     },
     "metadata": {},
     "output_type": "display_data"
    }
   ],
   "source": [
    "import matplotlib.pyplot as plt\n",
    "\n",
    "# 按月聚合销售总和和油价平均值\n",
    "plt.figure(figsize=(20, 6))\n",
    "monthly_data = df_merged.groupby(df_merged['date'].dt.to_period('M')).agg(\n",
    "    {'sales': 'sum', 'dcoilwtico': 'mean'}).reset_index()\n",
    "monthly_data['date'] = monthly_data['date'].dt.to_timestamp().dt.strftime('%Y-%m')  # 转换日期格式\n",
    "\n",
    "# 绘制双轴折线图\n",
    "ax = monthly_data.plot(x='date', y='sales', kind='line', color='blue', label='销售量')\n",
    "ax2 = ax.twinx()\n",
    "monthly_data.plot(x='date', y='dcoilwtico', kind='line', color='red', ax=ax2, label='油价')\n",
    "\n",
    "# 设置标签和标题\n",
    "ax.set_xlabel('销售的时间')\n",
    "ax.set_ylabel('销售量', color='blue')\n",
    "ax2.set_ylabel('油价', color='red')\n",
    "plt.title('油价与销售的时间趋势')\n",
    "plt.savefig(\"H:\\期末考试\\可视化\\油价与销售的时间趋势.png\", dpi=300, bbox_inches='tight')\n",
    "plt.close()"
   ]
  },
  {
   "cell_type": "markdown",
   "id": "31b96989-56f4-4789-b594-02d1a7128401",
   "metadata": {},
   "source": [
    "### 10.城市销售分布（前10）"
   ]
  },
  {
   "cell_type": "code",
   "execution_count": 183,
   "id": "4fbe22e5-614d-4c56-bd3f-65dfdff37f52",
   "metadata": {},
   "outputs": [],
   "source": [
    "plt.figure(figsize=(10, 6))\n",
    "city_sales.head(10).plot(kind='bar')\n",
    "\n",
    "\n",
    "cities_chinese = [\"基多\", \"瓜亚基尔\", \"昆卡\", \"安巴托\", \"圣多明各\", \n",
    "                 \"马查拉\", \"卡扬贝\", \"拉塔昆加\", \"道莱\", \"洛哈\"]\n",
    "\n",
    "plt.xticks(range(len(cities_chinese)), cities_chinese, rotation=45) \n",
    "plt.title('城市销售分布（前10）')\n",
    "plt.xlabel('城市')\n",
    "plt.ylabel('总销售额')\n",
    "plt.tight_layout()\n",
    "plt.savefig(\"H:\\期末考试\\可视化\\城市销售分布（前10）.png\", dpi=300, bbox_inches='tight')\n",
    "plt.close()"
   ]
  },
  {
   "cell_type": "code",
   "execution_count": null,
   "id": "c2d3f4a1-c59a-41cd-bcb4-a1e3e70edad7",
   "metadata": {},
   "outputs": [],
   "source": []
  }
 ],
 "metadata": {
  "kernelspec": {
   "display_name": "Python 3 (ipykernel)",
   "language": "python",
   "name": "python3"
  },
  "language_info": {
   "codemirror_mode": {
    "name": "ipython",
    "version": 3
   },
   "file_extension": ".py",
   "mimetype": "text/x-python",
   "name": "python",
   "nbconvert_exporter": "python",
   "pygments_lexer": "ipython3",
   "version": "3.12.4"
  }
 },
 "nbformat": 4,
 "nbformat_minor": 5
}
