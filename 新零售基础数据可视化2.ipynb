{
 "cells": [
  {
   "cell_type": "code",
   "execution_count": 16,
   "id": "1fefe89c-0a9b-4414-9f1f-3a9e0132c646",
   "metadata": {},
   "outputs": [
    {
     "name": "stdout",
     "output_type": "stream",
     "text": [
      "Looking in indexes: https://mirror.nju.edu.cn/pypi/web/simpleNote: you may need to restart the kernel to use updated packages.\n",
      "\n",
      "Requirement already satisfied: pandas in e:\\python visualization\\lib\\site-packages (2.2.3)\n",
      "Requirement already satisfied: numpy>=1.26.0 in e:\\python visualization\\lib\\site-packages (from pandas) (1.26.4)\n",
      "Requirement already satisfied: python-dateutil>=2.8.2 in e:\\python visualization\\lib\\site-packages (from pandas) (2.9.0.post0)\n",
      "Requirement already satisfied: pytz>=2020.1 in e:\\python visualization\\lib\\site-packages (from pandas) (2024.1)\n",
      "Requirement already satisfied: tzdata>=2022.7 in e:\\python visualization\\lib\\site-packages (from pandas) (2023.3)\n",
      "Requirement already satisfied: six>=1.5 in e:\\python visualization\\lib\\site-packages (from python-dateutil>=2.8.2->pandas) (1.16.0)\n"
     ]
    }
   ],
   "source": [
    "pip install pandas"
   ]
  },
  {
   "cell_type": "code",
   "execution_count": 2,
   "id": "4c5c6c26-800b-463f-8752-da5ebde0a6ab",
   "metadata": {},
   "outputs": [
    {
     "name": "stdout",
     "output_type": "stream",
     "text": [
      "Looking in indexes: https://mirror.nju.edu.cn/pypi/web/simple\n",
      "Requirement already satisfied: numpy in e:\\python visualization\\lib\\site-packages (1.26.4)\n",
      "Note: you may need to restart the kernel to use updated packages.\n"
     ]
    }
   ],
   "source": [
    "pip install numpy"
   ]
  },
  {
   "cell_type": "code",
   "execution_count": 3,
   "id": "05504fba-adbe-4e2f-b970-bfcdec5ebc82",
   "metadata": {},
   "outputs": [
    {
     "name": "stdout",
     "output_type": "stream",
     "text": [
      "Looking in indexes: https://mirror.nju.edu.cn/pypi/web/simpleNote: you may need to restart the kernel to use updated packages.\n",
      "\n",
      "Requirement already satisfied: matplotlib in e:\\python visualization\\lib\\site-packages (3.9.2)\n",
      "Requirement already satisfied: contourpy>=1.0.1 in e:\\python visualization\\lib\\site-packages (from matplotlib) (1.2.0)\n",
      "Requirement already satisfied: cycler>=0.10 in e:\\python visualization\\lib\\site-packages (from matplotlib) (0.11.0)\n",
      "Requirement already satisfied: fonttools>=4.22.0 in e:\\python visualization\\lib\\site-packages (from matplotlib) (4.51.0)\n",
      "Requirement already satisfied: kiwisolver>=1.3.1 in e:\\python visualization\\lib\\site-packages (from matplotlib) (1.4.4)\n",
      "Requirement already satisfied: numpy>=1.23 in e:\\python visualization\\lib\\site-packages (from matplotlib) (1.26.4)\n",
      "Requirement already satisfied: packaging>=20.0 in e:\\python visualization\\lib\\site-packages (from matplotlib) (23.2)\n",
      "Requirement already satisfied: pillow>=8 in e:\\python visualization\\lib\\site-packages (from matplotlib) (10.3.0)\n",
      "Requirement already satisfied: pyparsing>=2.3.1 in e:\\python visualization\\lib\\site-packages (from matplotlib) (3.0.9)\n",
      "Requirement already satisfied: python-dateutil>=2.7 in e:\\python visualization\\lib\\site-packages (from matplotlib) (2.9.0.post0)\n",
      "Requirement already satisfied: six>=1.5 in e:\\python visualization\\lib\\site-packages (from python-dateutil>=2.7->matplotlib) (1.16.0)\n"
     ]
    }
   ],
   "source": [
    "pip install matplotlib"
   ]
  },
  {
   "cell_type": "code",
   "execution_count": 4,
   "id": "62922fb9-f780-4ff0-bfb5-0d2234417577",
   "metadata": {},
   "outputs": [
    {
     "name": "stdout",
     "output_type": "stream",
     "text": [
      "Looking in indexes: https://mirror.nju.edu.cn/pypi/web/simple\n",
      "Requirement already satisfied: seaborn in e:\\python visualization\\lib\\site-packages (0.13.2)\n",
      "Requirement already satisfied: numpy!=1.24.0,>=1.20 in e:\\python visualization\\lib\\site-packages (from seaborn) (1.26.4)\n",
      "Requirement already satisfied: pandas>=1.2 in e:\\python visualization\\lib\\site-packages (from seaborn) (2.2.3)\n",
      "Requirement already satisfied: matplotlib!=3.6.1,>=3.4 in e:\\python visualization\\lib\\site-packages (from seaborn) (3.9.2)\n",
      "Requirement already satisfied: contourpy>=1.0.1 in e:\\python visualization\\lib\\site-packages (from matplotlib!=3.6.1,>=3.4->seaborn) (1.2.0)\n",
      "Requirement already satisfied: cycler>=0.10 in e:\\python visualization\\lib\\site-packages (from matplotlib!=3.6.1,>=3.4->seaborn) (0.11.0)\n",
      "Requirement already satisfied: fonttools>=4.22.0 in e:\\python visualization\\lib\\site-packages (from matplotlib!=3.6.1,>=3.4->seaborn) (4.51.0)\n",
      "Requirement already satisfied: kiwisolver>=1.3.1 in e:\\python visualization\\lib\\site-packages (from matplotlib!=3.6.1,>=3.4->seaborn) (1.4.4)\n",
      "Requirement already satisfied: packaging>=20.0 in e:\\python visualization\\lib\\site-packages (from matplotlib!=3.6.1,>=3.4->seaborn) (23.2)\n",
      "Requirement already satisfied: pillow>=8 in e:\\python visualization\\lib\\site-packages (from matplotlib!=3.6.1,>=3.4->seaborn) (10.3.0)\n",
      "Requirement already satisfied: pyparsing>=2.3.1 in e:\\python visualization\\lib\\site-packages (from matplotlib!=3.6.1,>=3.4->seaborn) (3.0.9)\n",
      "Requirement already satisfied: python-dateutil>=2.7 in e:\\python visualization\\lib\\site-packages (from matplotlib!=3.6.1,>=3.4->seaborn) (2.9.0.post0)\n",
      "Requirement already satisfied: pytz>=2020.1 in e:\\python visualization\\lib\\site-packages (from pandas>=1.2->seaborn) (2024.1)\n",
      "Requirement already satisfied: tzdata>=2022.7 in e:\\python visualization\\lib\\site-packages (from pandas>=1.2->seaborn) (2023.3)\n",
      "Requirement already satisfied: six>=1.5 in e:\\python visualization\\lib\\site-packages (from python-dateutil>=2.7->matplotlib!=3.6.1,>=3.4->seaborn) (1.16.0)\n",
      "Note: you may need to restart the kernel to use updated packages.\n"
     ]
    }
   ],
   "source": [
    "pip install seaborn"
   ]
  },
  {
   "cell_type": "code",
   "execution_count": 10,
   "id": "628b8ebc-201c-41c3-a7c4-804cb20e4db7",
   "metadata": {},
   "outputs": [],
   "source": [
    "import pandas as pd\n",
    "import numpy as np\n",
    "import matplotlib.pyplot as plt\n",
    "import seaborn as sns\n",
    "from statsmodels.tsa.seasonal import seasonal_decompose\n",
    "from statsmodels.tsa.arima.model import ARIMA\n",
    "from sklearn.metrics import mean_squared_error\n",
    "from sklearn.model_selection import train_test_split\n",
    "import warnings"
   ]
  },
  {
   "cell_type": "code",
   "execution_count": 11,
   "id": "88d16475-1ef3-479b-b601-130c26d34bca",
   "metadata": {},
   "outputs": [],
   "source": [
    "warnings.filterwarnings('ignore')"
   ]
  },
  {
   "cell_type": "code",
   "execution_count": 12,
   "id": "ad877085-2da8-4aac-8c6a-e0b5ab652459",
   "metadata": {},
   "outputs": [],
   "source": [
    "# 设置中文字体\n",
    "plt.rcParams['font.sans-serif'] = ['SimHei']  # 使用黑体显示中文\n",
    "plt.rcParams['axes.unicode_minus'] = False  # 解决负号显示问题"
   ]
  },
  {
   "cell_type": "code",
   "execution_count": 13,
   "id": "07792320-0f2c-45c9-ad23-52ce5c5029a7",
   "metadata": {},
   "outputs": [],
   "source": [
    "df_train = pd.read_csv(r'H:\\期末考试\\可视化\\data (1)\\data\\train.csv')\n",
    "df_test = pd.read_csv(r'H:\\期末考试\\可视化\\data (1)\\data\\test.csv')\n",
    "df_stores = pd.read_csv(r'H:\\期末考试\\可视化\\data (1)\\data\\stores.csv')\n",
    "df_holidays = pd.read_csv(r'H:\\期末考试\\可视化\\data (1)\\data\\holidays_events.csv')\n",
    "df_oil = pd.read_csv(r'H:\\期末考试\\可视化\\data (1)\\data\\oil.csv')\n",
    "df_submission = pd.read_csv(r'H:\\期末考试\\可视化\\data (1)\\data\\sample_submission.csv')"
   ]
  },
  {
   "cell_type": "code",
   "execution_count": 15,
   "id": "b560ac55-ffd8-4d0d-a171-140a6abb0dcf",
   "metadata": {},
   "outputs": [
    {
     "name": "stdout",
     "output_type": "stream",
     "text": [
      "\n",
      "数据基本信息：\n",
      "\n",
      "训练集数据基本信息：\n",
      "<class 'pandas.core.frame.DataFrame'>\n",
      "RangeIndex: 3000888 entries, 0 to 3000887\n",
      "Data columns (total 6 columns):\n",
      " #   Column       Dtype  \n",
      "---  ------       -----  \n",
      " 0   id           int64  \n",
      " 1   date         object \n",
      " 2   store_nbr    int64  \n",
      " 3   family       object \n",
      " 4   sales        float64\n",
      " 5   onpromotion  int64  \n",
      "dtypes: float64(1), int64(3), object(2)\n",
      "memory usage: 137.4+ MB\n",
      "\n",
      "测试集数据基本信息：\n",
      "<class 'pandas.core.frame.DataFrame'>\n",
      "RangeIndex: 28512 entries, 0 to 28511\n",
      "Data columns (total 5 columns):\n",
      " #   Column       Non-Null Count  Dtype \n",
      "---  ------       --------------  ----- \n",
      " 0   id           28512 non-null  int64 \n",
      " 1   date         28512 non-null  object\n",
      " 2   store_nbr    28512 non-null  int64 \n",
      " 3   family       28512 non-null  object\n",
      " 4   onpromotion  28512 non-null  int64 \n",
      "dtypes: int64(3), object(2)\n",
      "memory usage: 1.1+ MB\n",
      "\n",
      "门店数据基本信息：\n",
      "<class 'pandas.core.frame.DataFrame'>\n",
      "RangeIndex: 54 entries, 0 to 53\n",
      "Data columns (total 5 columns):\n",
      " #   Column     Non-Null Count  Dtype \n",
      "---  ------     --------------  ----- \n",
      " 0   store_nbr  54 non-null     int64 \n",
      " 1   city       54 non-null     object\n",
      " 2   state      54 non-null     object\n",
      " 3   type       54 non-null     object\n",
      " 4   cluster    54 non-null     int64 \n",
      "dtypes: int64(2), object(3)\n",
      "memory usage: 2.2+ KB\n",
      "\n",
      "节假日数据基本信息：\n",
      "<class 'pandas.core.frame.DataFrame'>\n",
      "RangeIndex: 350 entries, 0 to 349\n",
      "Data columns (total 6 columns):\n",
      " #   Column       Non-Null Count  Dtype \n",
      "---  ------       --------------  ----- \n",
      " 0   date         350 non-null    object\n",
      " 1   type         350 non-null    object\n",
      " 2   locale       350 non-null    object\n",
      " 3   locale_name  350 non-null    object\n",
      " 4   description  350 non-null    object\n",
      " 5   transferred  350 non-null    bool  \n",
      "dtypes: bool(1), object(5)\n",
      "memory usage: 14.1+ KB\n",
      "\n",
      "油价数据基本信息：\n",
      "<class 'pandas.core.frame.DataFrame'>\n",
      "RangeIndex: 1218 entries, 0 to 1217\n",
      "Data columns (total 2 columns):\n",
      " #   Column      Non-Null Count  Dtype  \n",
      "---  ------      --------------  -----  \n",
      " 0   date        1218 non-null   object \n",
      " 1   dcoilwtico  1175 non-null   float64\n",
      "dtypes: float64(1), object(1)\n",
      "memory usage: 19.2+ KB\n",
      "\n",
      "提交样本数据基本信息：\n",
      "<class 'pandas.core.frame.DataFrame'>\n",
      "RangeIndex: 28512 entries, 0 to 28511\n",
      "Data columns (total 2 columns):\n",
      " #   Column  Non-Null Count  Dtype  \n",
      "---  ------  --------------  -----  \n",
      " 0   id      28512 non-null  int64  \n",
      " 1   sales   28512 non-null  float64\n",
      "dtypes: float64(1), int64(1)\n",
      "memory usage: 445.6 KB\n"
     ]
    }
   ],
   "source": [
    "print(\"\\n数据基本信息：\")\n",
    "for name, df in zip(['训练集', '测试集', '门店', '节假日', '油价', '提交样本'],\n",
    "                    [df_train, df_test, df_stores, df_holidays, df_oil, df_submission]):\n",
    "    print(f\"\\n{name}数据基本信息：\")\n",
    "    df.info()"
   ]
  },
  {
   "cell_type": "code",
   "execution_count": 20,
   "id": "9e05d859-b421-4812-a2be-bcbd0b781518",
   "metadata": {},
   "outputs": [],
   "source": [
    "def preprocess_data():\n",
    "    # 复制数据避免修改原始数据\n",
    "    train = df_train.copy()\n",
    "    test = df_test.copy()\n",
    "    stores = df_stores.copy()\n",
    "    holidays = df_holidays.copy()\n",
    "    oil = df_oil.copy()\n",
    "\n",
    "    # 转换日期格式\n",
    "    for df in [train, test, holidays, oil]:\n",
    "        df['date'] = pd.to_datetime(df['date'])\n",
    "\n",
    "    # 处理油价缺失值（前向填充）\n",
    "    oil['dcoilwtico'] = oil['dcoilwtico'].ffill()\n",
    "\n",
    "    # 合并数据集\n",
    "    merged = train.merge(stores, on='store_nbr', how='left')\n",
    "    merged = merged.merge(holidays, on='date', how='left')\n",
    "    merged = merged.merge(oil, on='date', how='left')\n",
    "\n",
    "    # 处理合并后的缺失值\n",
    "    merged['type_y'] = merged['type_y'].fillna('Normal Day')  # 非节假日标记\n",
    "    merged['locale'] = merged['locale'].fillna('None')\n",
    "    merged['locale_name'] = merged['locale_name'].fillna('None')\n",
    "    merged['description'] = merged['description'].fillna('None')\n",
    "    merged['transferred'] = merged['transferred'].fillna(False)\n",
    "\n",
    "    # 提取日期特征\n",
    "    merged['year'] = merged['date'].dt.year\n",
    "    merged['month'] = merged['date'].dt.month\n",
    "    merged['day'] = merged['date'].dt.day\n",
    "    merged['dayofweek'] = merged['date'].dt.dayofweek\n",
    "    merged['is_weekend'] = merged['dayofweek'].isin([5, 6])\n",
    "    merged['quarter'] = merged['date'].dt.quarter\n",
    "\n",
    "    # 标记是否为节假日\n",
    "    merged['is_holiday'] = merged['type_y'] != 'Normal Day'\n",
    "\n",
    "    # 创建季节特征\n",
    "    merged['season'] = ((merged['month'] % 12 + 3) // 3).map({1: '春', 2: '夏', 3: '秋', 4: '冬'})\n",
    "\n",
    "    # 处理油价特征\n",
    "    merged['oil_price'] = merged['dcoilwtico']\n",
    "\n",
    "    return merged\n"
   ]
  },
  {
   "cell_type": "code",
   "execution_count": 21,
   "id": "30b60aba-5e87-4581-ae01-4bcc23367c07",
   "metadata": {},
   "outputs": [],
   "source": [
    "df = preprocess_data()"
   ]
  },
  {
   "cell_type": "code",
   "execution_count": 22,
   "id": "d8a5a4e4-27f2-48f7-bf68-35e4d3176658",
   "metadata": {},
   "outputs": [
    {
     "name": "stdout",
     "output_type": "stream",
     "text": [
      "\n",
      "数据预处理完成，已保存为 preprocessed_data.csv\n"
     ]
    }
   ],
   "source": [
    "df.to_csv('preprocessed_data.csv', index=False)\n",
    "print(\"\\n数据预处理完成，已保存为 preprocessed_data.csv\")"
   ]
  },
  {
   "cell_type": "code",
   "execution_count": 23,
   "id": "dcf20d61-a4cc-48ae-8339-1cc4c69fa461",
   "metadata": {},
   "outputs": [],
   "source": [
    "def statistical_analysis(df):\n",
    "    # 1. 销售趋势分析\n",
    "    daily_sales = df.groupby('date')['sales'].sum().reset_index()\n",
    "\n",
    "    # 时间序列分解\n",
    "    daily_sales.set_index('date', inplace=True)\n",
    "    decomposition = seasonal_decompose(daily_sales['sales'], model='additive', period=30)\n",
    "    trend = decomposition.trend\n",
    "    seasonal = decomposition.seasonal\n",
    "    residual = decomposition.resid\n",
    "\n",
    "    # 2. 节假日影响分析\n",
    "    holiday_effect = df.groupby('type_y')['sales'].mean().sort_values(ascending=False).reset_index()\n",
    "\n",
    "    # 3. 商品类别分析\n",
    "    category_sales = df.groupby('family')['sales'].sum().sort_values(ascending=False).reset_index()\n",
    "\n",
    "    # 4. 门店表现分析\n",
    "    store_performance = df.groupby('store_nbr')['sales'].sum().sort_values(ascending=False).reset_index()\n",
    "    store_types = df.groupby('type_x')['sales'].sum().sort_values(ascending=False).reset_index()\n",
    "\n",
    "    # 5. 城市销售分布\n",
    "    city_sales = df.groupby('city')['sales'].sum().sort_values(ascending=False).reset_index()\n",
    "\n",
    "    # 6. 油价与销售关系\n",
    "    oil_sales_corr = df[['sales', 'oil_price']].corr().iloc[0, 1]\n",
    "\n",
    "    # 7. 时间序列预测 (ARIMA模型)\n",
    "    # 准备数据\n",
    "    train_size = int(len(daily_sales) * 0.8)\n",
    "    train, test = daily_sales.iloc[:train_size], daily_sales.iloc[train_size:]\n",
    "\n",
    "    # 训练ARIMA模型\n",
    "    model = ARIMA(train['sales'], order=(5, 1, 0))  # 简单ARIMA模型，实际应通过AIC/BIC选择最优参数\n",
    "    model_fit = model.fit()\n",
    "\n",
    "    # 预测\n",
    "    predictions = model_fit.forecast(steps=len(test))\n",
    "    mse = mean_squared_error(test['sales'], predictions)\n",
    "    rmse = np.sqrt(mse)\n",
    "\n",
    "    # 未来30天销售预测\n",
    "    future_predictions = model_fit.forecast(steps=30)\n",
    "\n",
    "    return {\n",
    "        'daily_sales': daily_sales,\n",
    "        'holiday_effect': holiday_effect,\n",
    "        'category_sales': category_sales,\n",
    "        'store_performance': store_performance,\n",
    "        'store_types': store_types,\n",
    "        'city_sales': city_sales,\n",
    "        'oil_sales_corr': oil_sales_corr,\n",
    "        'time_series': {\n",
    "            'trend': trend,\n",
    "            'seasonal': seasonal,\n",
    "            'residual': residual,\n",
    "            'train': train,\n",
    "            'test': test,\n",
    "            'predictions': predictions,\n",
    "            'future_predictions': future_predictions,\n",
    "            'rmse': rmse\n",
    "        }\n",
    "    }"
   ]
  },
  {
   "cell_type": "code",
   "execution_count": 27,
   "id": "b2a30c69-0495-475f-8efb-b3a3ad4c604e",
   "metadata": {},
   "outputs": [
    {
     "name": "stdout",
     "output_type": "stream",
     "text": [
      "\n",
      "统计分析完成\n",
      "油价与销售的相关系数: -0.0790\n",
      "时间序列预测的RMSE: 256286.3974\n"
     ]
    }
   ],
   "source": [
    "analysis_results = statistical_analysis(df)\n",
    "print(\"\\n统计分析完成\")\n",
    "print(f\"油价与销售的相关系数: {analysis_results['oil_sales_corr']:.4f}\")\n",
    "print(f\"时间序列预测的RMSE: {analysis_results['time_series']['rmse']:.4f}\")"
   ]
  },
  {
   "cell_type": "markdown",
   "id": "df0035bf-e825-4908-91c8-74bd5ee5d307",
   "metadata": {},
   "source": [
    "### 销售趋势图"
   ]
  },
  {
   "cell_type": "code",
   "execution_count": 31,
   "id": "edc6803d-53be-4593-a4b5-51054eebe307",
   "metadata": {},
   "outputs": [],
   "source": [
    "def create_visualizations(analysis_results, df):\n",
    "    # 1. 销售趋势图\n",
    "    plt.figure(figsize=(14, 7))\n",
    "    plt.plot(analysis_results['daily_sales'], label='每日销售额')\n",
    "    plt.title('销售趋势分析')\n",
    "    plt.xlabel('日期')\n",
    "    plt.ylabel('销售额')\n",
    "    plt.legend()\n",
    "    plt.tight_layout()\n",
    "    plt.savefig(\"H:\\期末考试\\可视化\\销售趋势图.png\")\n",
    "    plt.close()\n",
    "create_visualizations(analysis_results, df)  # 确保 analysis_results 和 df 已定义"
   ]
  },
  {
   "cell_type": "markdown",
   "id": "511a6c70-e285-4d82-b82e-c04158245be0",
   "metadata": {},
   "source": [
    "### 时间序列分解图"
   ]
  },
  {
   "cell_type": "code",
   "execution_count": 33,
   "id": "cfa364fd-a21f-49c4-abff-ac6be75e9aa3",
   "metadata": {},
   "outputs": [],
   "source": [
    "def create_visualizations(analysis_results, df):\n",
    "    # 2. 时间序列分解图\n",
    "    decomposition = analysis_results['time_series']\n",
    "    plt.figure(figsize=(14, 10))\n",
    "\n",
    "    plt.subplot(411)\n",
    "    plt.plot(analysis_results['daily_sales'], label='原始数据')\n",
    "    plt.legend(loc='best')\n",
    "    plt.title('时间序列分解')\n",
    "\n",
    "    plt.subplot(412)\n",
    "    plt.plot(decomposition['trend'], label='趋势')\n",
    "    plt.legend(loc='best')\n",
    "\n",
    "    plt.subplot(413)\n",
    "    plt.plot(decomposition['seasonal'], label='季节性')\n",
    "    plt.legend(loc='best')\n",
    "\n",
    "    plt.subplot(414)\n",
    "    plt.plot(decomposition['residual'], label='残差')\n",
    "    plt.legend(loc='best')\n",
    "\n",
    "    plt.tight_layout()\n",
    "    plt.savefig(\"H:\\期末考试\\可视化\\时间序列分解图.png\")\n",
    "    plt.close()\n",
    "create_visualizations(analysis_results, df)  # 确保 analysis_results 和 df 已定义"
   ]
  },
  {
   "cell_type": "markdown",
   "id": "f34f7b4b-6a56-4d66-942a-b8b85a5228c0",
   "metadata": {},
   "source": [
    "### 节假日影响条形图"
   ]
  },
  {
   "cell_type": "code",
   "execution_count": 35,
   "id": "e9d3b88e-cd5b-40ef-bf12-d05cd387b8b9",
   "metadata": {},
   "outputs": [],
   "source": [
    "def create_visualizations(analysis_results, df):\n",
    "  \n",
    "    plt.rcParams['font.sans-serif'] = ['SimHei']\n",
    "    plt.rcParams['axes.unicode_minus'] = False\n",
    "\n",
    "    \n",
    "    plt.figure(figsize=(12, 6))\n",
    "    \n",
    "\n",
    "    type_mapping = {\n",
    "        'Additional': '附加',\n",
    "        'Transfer': '调休',\n",
    "        'Bridge': '桥梁日',\n",
    "        'Event': '事件日',\n",
    "        'Work_Day': '工作日',\n",
    "        'Holiday': '节假日',\n",
    "        'Normal_Day': '普通日'\n",
    "    }\n",
    "    \n",
    "\n",
    "    holiday_data = analysis_results['holiday_effect'].copy()\n",
    "    holiday_data['type_cn'] = holiday_data['type_y'].map(type_mapping)\n",
    "    \n",
    "    sns.barplot(x='type_cn', y='sales', data=holiday_data)\n",
    "    plt.title('节假日类型对销售的影响')\n",
    "    plt.xlabel('节假日类型')\n",
    "    plt.ylabel('平均销售额')\n",
    "    plt.xticks(rotation=35)  # 微调旋转角度\n",
    "    plt.tight_layout()\n",
    "    \n",
    "\n",
    "    plt.savefig(r\"H:\\期末考试\\可视化\\节假日影响条形图.png\")\n",
    "    plt.close()\n",
    "\n",
    "\n",
    "create_visualizations(analysis_results, df)"
   ]
  },
  {
   "cell_type": "markdown",
   "id": "7e29c3ca-8969-4784-a2c6-5404b1dd8d42",
   "metadata": {},
   "source": [
    "### 商品类别销售分布"
   ]
  },
  {
   "cell_type": "code",
   "execution_count": 38,
   "id": "2d0fdac4-70d8-4a7f-a1b5-5f695e0f7d95",
   "metadata": {},
   "outputs": [],
   "source": [
    "def create_visualizations(analysis_results, df):\n",
    "    # 设置中文字体\n",
    "    plt.rcParams['font.sans-serif'] = ['SimHei']\n",
    "    plt.rcParams['axes.unicode_minus'] = False\n",
    "\n",
    "    # 4. 商品类别销售分布（前10）\n",
    "    plt.figure(figsize=(12, 8))\n",
    "    \n",
    "    # 创建中英文映射字典\n",
    "    category_mapping = {\n",
    "        'GROCERY': '杂货',\n",
    "        'BEVERAGES': '饮料',\n",
    "        'PRODUCE': '农产品',\n",
    "        'CLEANING': '清洁用品',\n",
    "        'DAIRY': '乳制品',\n",
    "        'BREAD/BAKERY': '面包/烘焙',\n",
    "        'POULTRY': '禽类',\n",
    "        'MEATS': '肉类',\n",
    "        'PERSONAL CARE': '个人护理',\n",
    "        'DELI': '熟食'\n",
    "    }\n",
    "    \n",
    "    # 处理数据副本\n",
    "    category_data = analysis_results['category_sales'].head(10).copy()\n",
    "    category_data['family_cn'] = category_data['family'].map(category_mapping)\n",
    "    \n",
    "    # 绘制水平条形图\n",
    "    sns.barplot(x='sales', \n",
    "                y='family_cn', \n",
    "                data=category_data,\n",
    "                color='darkblue')  # 统一深蓝色\n",
    "    \n",
    "    # 设置科学计数法格式\n",
    "    plt.ticklabel_format(axis='x', style='sci', scilimits=(6,6))\n",
    "    \n",
    "    plt.title('商品类别销售分布（前10）')\n",
    "    plt.xlabel('总销售额')\n",
    "    plt.ylabel('商品类别')\n",
    "    plt.tight_layout()\n",
    "    \n",
    "    # 修正路径格式\n",
    "    plt.savefig(r\"H:\\期末考试\\可视化\\商品类别销售分布.png\")\n",
    "    plt.close()\n",
    "\n",
    "# 调用函数\n",
    "create_visualizations(analysis_results, df)"
   ]
  },
  {
   "cell_type": "markdown",
   "id": "b8583d3e-8273-4e87-8544-5ce363ee8e18",
   "metadata": {},
   "source": [
    "### 门店销售排行"
   ]
  },
  {
   "cell_type": "code",
   "execution_count": 41,
   "id": "9bd0498f-b901-4cc6-b91e-b509572ab325",
   "metadata": {},
   "outputs": [],
   "source": [
    "def create_visualizations(analysis_results, df):\n",
    "    plt.figure(figsize=(12, 8))\n",
    "    sns.barplot(x='sales', y='store_nbr', data=analysis_results['store_performance'].head(10))\n",
    "    plt.title('门店销售排行（前10）')\n",
    "    plt.xlabel('总销售额')\n",
    "    plt.ylabel('门店编号')\n",
    "    plt.tight_layout()\n",
    "    plt.savefig(\"H:\\期末考试\\可视化\\门店销售排行.png\")\n",
    "    plt.close()\n",
    "create_visualizations(analysis_results, df)"
   ]
  },
  {
   "cell_type": "markdown",
   "id": "99f5866b-9c66-45a5-87c7-38ceef2c9bc6",
   "metadata": {},
   "source": [
    "### 城市销售分布"
   ]
  },
  {
   "cell_type": "code",
   "execution_count": 43,
   "id": "57c3d92e-c54e-4a80-ba44-11e617d499dc",
   "metadata": {},
   "outputs": [],
   "source": [
    "def create_visualizations(analysis_results, df):\n",
    "    # 设置中文字体（若之前未设置需保留此配置）\n",
    "    plt.rcParams['font.sans-serif'] = ['SimHei']\n",
    "    plt.rcParams['axes.unicode_minus'] = False\n",
    "\n",
    "    # 城市销售分布（前10）\n",
    "    plt.figure(figsize=(12, 8))\n",
    "    \n",
    "    # 创建厄瓜多尔城市中英文映射字典\n",
    "    city_mapping = {\n",
    "        'Quito': '基多',\n",
    "        'Guayaquil': '瓜亚基尔',\n",
    "        'Cuenca': '昆卡',\n",
    "        'Ambato': '安巴托',\n",
    "        'Santo Domingo': '圣多明各',\n",
    "        'Machala': '马查拉',\n",
    "        'Cayambe': '卡扬贝',\n",
    "        'Latacunga': '拉塔昆加',\n",
    "        'Daule': '道勒',\n",
    "        'Loja': '洛哈'\n",
    "    }\n",
    "    \n",
    "    # 处理数据副本\n",
    "    city_data = analysis_results['city_sales'].head(10).copy()\n",
    "    city_data['city_cn'] = city_data['city'].map(city_mapping)\n",
    "    \n",
    "    # 绘制水平条形图\n",
    "    sns.barplot(x='sales', \n",
    "                y='city_cn',  # 使用映射后的中文城市名\n",
    "                data=city_data.sort_values('sales', ascending=False),  # 确保排序正确\n",
    "                color='steelblue')  # 保持原图蓝色风格\n",
    "    \n",
    "    # 设置科学计数法（1e8显示）\n",
    "    plt.ticklabel_format(axis='x', style='sci', scilimits=(8,8))\n",
    "    \n",
    "    plt.title('城市销售分布（前10）')\n",
    "    plt.xlabel('总销售额')\n",
    "    plt.ylabel('城市')\n",
    "    plt.tight_layout()\n",
    "    \n",
    "    # 修正路径格式\n",
    "    plt.savefig(r\"H:\\期末考试\\可视化\\城市销售分布.png\")\n",
    "    plt.close()\n",
    "\n",
    "# 调用函数\n",
    "create_visualizations(analysis_results, df)"
   ]
  },
  {
   "cell_type": "markdown",
   "id": "c3b377da-312a-40ce-8ad8-cbb23ff4616d",
   "metadata": {},
   "source": [
    "### 销售预测图"
   ]
  },
  {
   "cell_type": "code",
   "execution_count": 55,
   "id": "57ce0222-e46e-43cf-b468-c7c900eec7ce",
   "metadata": {},
   "outputs": [],
   "source": [
    "def create_visualizations(analysis_results, df):\n",
    "    train = analysis_results['time_series']['train']\n",
    "    test = analysis_results['time_series']['test']\n",
    "    predictions = analysis_results['time_series']['predictions']\n",
    "    future_predictions = analysis_results['time_series']['future_predictions']\n",
    "\n",
    "    plt.figure(figsize=(14, 7))\n",
    "    plt.plot(train.index, train['sales'], label='训练数据')\n",
    "    plt.plot(test.index, test['sales'], label='实际销售')\n",
    "    plt.plot(test.index, predictions, label='预测销售', linestyle='--')\n",
    "    # 修正路径格式\n",
    "    plt.savefig(r\"H:\\期末考试\\可视化\\销售预测图.png\")\n",
    "    plt.close()\n",
    "\n",
    "# 调用函数\n",
    "create_visualizations(analysis_results, df)"
   ]
  },
  {
   "cell_type": "markdown",
   "id": "a231e53a-fbc1-4e4a-8f2b-b729c8d71d59",
   "metadata": {},
   "source": [
    "### 未来预测图"
   ]
  },
  {
   "cell_type": "code",
   "execution_count": 63,
   "id": "a5adc366-bc04-45f9-9fd1-e0c93b796664",
   "metadata": {},
   "outputs": [],
   "source": [
    "def create_visualizations(analysis_results, df):\n",
    "    # 从 analysis_results 中提取预测结果\n",
    "    future_predictions = analysis_results[\"future_predictions\"]\n",
    "    \n",
    "    future_dates = pd.date_range(start=df.index[-1] + pd.Timedelta(days=1), periods=30)\n",
    "    plt.plot(future_dates, future_predictions, label='未来30天预测', linestyle=':', color='green')\n",
    "    \n",
    "    plt.title('销售预测')\n",
    "    plt.xlabel('日期')\n",
    "    plt.ylabel('销售额')\n",
    "    plt.legend()\n",
    "    plt.tight_layout()\n",
    "    plt.savefig(r\"H:\\期末考试\\可视化\\未来预测图.png\")  # 使用原始字符串避免转义错误\n",
    "    plt.close()\n",
    "\n",
    "# 调用函数（无需传递 future_predictions）\n",
    "create_visualizations(analysis_results, df)"
   ]
  },
  {
   "cell_type": "markdown",
   "id": "091d0eda-5c57-4cad-84db-ff3eec6ad683",
   "metadata": {},
   "source": [
    "### 销售热力图（按周和月）"
   ]
  },
  {
   "cell_type": "code",
   "execution_count": 68,
   "id": "ac12e88c-6112-441f-a8be-18b935eb23f6",
   "metadata": {},
   "outputs": [
    {
     "name": "stdout",
     "output_type": "stream",
     "text": [
      "Index(['销售额'], dtype='object')\n"
     ]
    }
   ],
   "source": [
    "print(df.columns)"
   ]
  },
  {
   "cell_type": "code",
   "execution_count": 70,
   "id": "8c2da885-7df6-4903-9e5e-9990ee47733e",
   "metadata": {},
   "outputs": [],
   "source": [
    "def create_visualizations(analysis_results, df):\n",
    "    # 情况 1：修正列名（根据实际列名调整）\n",
    "    df = df.rename(columns={\"实际日期列名\": \"日期\"})  # 如果列名不匹配\n",
    "    \n",
    "    # 情况 2：生成日期列（若无日期数据）\n",
    "    df[\"日期\"] = pd.date_range(start=\"2023-01-01\", periods=len(df), freq=\"D\")  # 示例\n",
    "    \n",
    "    # 转换为日期格式并提取周/月\n",
    "    df[\"日期\"] = pd.to_datetime(df[\"日期\"])\n",
    "    df[\"dayofweek\"] = df[\"日期\"].dt.dayofweek  # 0=周一, 6=周日\n",
    "    df[\"month\"] = df[\"日期\"].dt.month\n",
    "    \n",
    "    # 构建透视表\n",
    "    pivot_table = df.pivot_table(index='dayofweek', columns='month', values='销售额', aggfunc='mean')\n",
    "    \n",
    "    # 绘制热力图\n",
    "    plt.figure(figsize=(12, 8))\n",
    "    sns.heatmap(pivot_table, annot=True, fmt='.2f', cmap='YlGnBu')\n",
    "    plt.title('销售热力图（按周和月）')\n",
    "    plt.xlabel('月份')\n",
    "    plt.ylabel('星期')\n",
    "    plt.tight_layout()\n",
    "    \n",
    "    # 保存时使用原始字符串避免转义错误\n",
    "    plt.savefig(r\"H:\\期末考试\\可视化\\销售热力图（按周和月）.png\")\n",
    "    plt.close()\n",
    "\n",
    "# 调用函数\n",
    "create_visualizations(analysis_results, df)"
   ]
  },
  {
   "cell_type": "markdown",
   "id": "87ab9a94-08ff-4048-bdb6-0696d1cc67e5",
   "metadata": {},
   "source": [
    "### 油价与销售散点图"
   ]
  },
  {
   "cell_type": "code",
   "execution_count": 84,
   "id": "692b6ad1-0767-49db-b987-5a7d39ba3501",
   "metadata": {},
   "outputs": [],
   "source": [
    "def create_visualizations(analysis_results, df):\n",
    "    # 1. 检查正确的列名（根据数据实际列名修改）\n",
    "    required_columns = ['sales']  # 假设数据中销售额列名为 'sales'\n",
    "    missing_columns = [col for col in required_columns if col not in df.columns]\n",
    "    \n",
    "    if missing_columns:\n",
    "        print(f\"缺少必要的列: {missing_columns}\")\n",
    "        print(f\"可用的列: {list(df.columns)}\")\n",
    "        return\n",
    "    \n",
    "    # 2. 绘制图表（调整列名）\n",
    "    plt.figure(figsize=(10, 6))\n",
    "    sample_size = min(1000, len(df))\n",
    "    sample_df = df.sample(sample_size, replace=False) if len(df) > 0 else df\n",
    "    \n",
    "    # 若需分析油价与销售额关系，但数据中没有油价列，需补充数据或检查列名\n",
    "    sns.scatterplot(x='sales', y='sales', data=sample_df)  # 示例仅用现有列\n",
    "    plt.title('销售数据分布')\n",
    "    plt.xlabel('销售额')\n",
    "    plt.tight_layout()\n",
    "    plt.savefig(r\"H:\\期末考试\\可视化\\油价与销售数据散点图.png\")\n",
    "    plt.close()\n",
    "\n",
    "create_visualizations(analysis_results, df)"
   ]
  },
  {
   "cell_type": "code",
   "execution_count": null,
   "id": "c6adf907-b1a4-4766-abd8-eb52d1914992",
   "metadata": {},
   "outputs": [],
   "source": []
  }
 ],
 "metadata": {
  "kernelspec": {
   "display_name": "Python 3 (ipykernel)",
   "language": "python",
   "name": "python3"
  },
  "language_info": {
   "codemirror_mode": {
    "name": "ipython",
    "version": 3
   },
   "file_extension": ".py",
   "mimetype": "text/x-python",
   "name": "python",
   "nbconvert_exporter": "python",
   "pygments_lexer": "ipython3",
   "version": "3.12.4"
  }
 },
 "nbformat": 4,
 "nbformat_minor": 5
}
